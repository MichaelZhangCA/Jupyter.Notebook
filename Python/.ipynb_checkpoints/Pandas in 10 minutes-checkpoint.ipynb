{
 "cells": [
  {
   "cell_type": "code",
   "execution_count": 1,
   "metadata": {},
   "outputs": [],
   "source": [
    "import pandas as pd\n",
    "import numpy as np\n",
    "import matplotlib.pyplot as plt"
   ]
  },
  {
   "cell_type": "code",
   "execution_count": 2,
   "metadata": {},
   "outputs": [
    {
     "data": {
      "text/plain": [
       "0    1.0\n",
       "1    3.0\n",
       "2    5.0\n",
       "3    NaN\n",
       "4    6.0\n",
       "5    8.0\n",
       "dtype: float64"
      ]
     },
     "execution_count": 2,
     "metadata": {},
     "output_type": "execute_result"
    }
   ],
   "source": [
    "s = pd.Series([1,3,5,np.nan,6,8])\n",
    "s"
   ]
  },
  {
   "cell_type": "code",
   "execution_count": null,
   "metadata": {},
   "outputs": [],
   "source": [
    "dates = pd.date_range('20130101', periods=6)\n",
    "dates\n",
    "\n",
    "df = pd.DataFrame(np.random.randn(6,4), index=dates, columns=list('ABCD'))\n",
    "df"
   ]
  },
  {
   "cell_type": "code",
   "execution_count": null,
   "metadata": {},
   "outputs": [],
   "source": [
    "df2 = pd.DataFrame({\n",
    "    'A' : 1.,\n",
    "    'B' : pd.Timestamp('20130102'),\n",
    "    'C' : pd.Series(1, index=list(range(4)), dtype='float32'),\n",
    "    'D' : np.array([3] * 4, dtype='int32'),\n",
    "    'E' : pd.Categorical([\"test\", \"train\", \"test\", \"train\"]),\n",
    "    'F' : 'foo'\n",
    "})\n",
    "\n",
    "df2"
   ]
  },
  {
   "cell_type": "code",
   "execution_count": null,
   "metadata": {},
   "outputs": [],
   "source": [
    "df2.dtypes"
   ]
  },
  {
   "cell_type": "code",
   "execution_count": null,
   "metadata": {},
   "outputs": [],
   "source": [
    "df2.B"
   ]
  },
  {
   "cell_type": "code",
   "execution_count": null,
   "metadata": {},
   "outputs": [],
   "source": [
    "df.head(3)"
   ]
  },
  {
   "cell_type": "code",
   "execution_count": null,
   "metadata": {},
   "outputs": [],
   "source": [
    "df.tail(3)"
   ]
  },
  {
   "cell_type": "code",
   "execution_count": null,
   "metadata": {},
   "outputs": [],
   "source": [
    "df.index"
   ]
  },
  {
   "cell_type": "code",
   "execution_count": null,
   "metadata": {},
   "outputs": [],
   "source": [
    "df.columns"
   ]
  },
  {
   "cell_type": "code",
   "execution_count": null,
   "metadata": {},
   "outputs": [],
   "source": [
    "df2.columns"
   ]
  },
  {
   "cell_type": "code",
   "execution_count": null,
   "metadata": {},
   "outputs": [],
   "source": [
    "df.values"
   ]
  },
  {
   "cell_type": "code",
   "execution_count": null,
   "metadata": {},
   "outputs": [],
   "source": [
    "df2.values"
   ]
  },
  {
   "cell_type": "code",
   "execution_count": null,
   "metadata": {},
   "outputs": [],
   "source": [
    "df.describe()"
   ]
  },
  {
   "cell_type": "code",
   "execution_count": null,
   "metadata": {},
   "outputs": [],
   "source": [
    "df2.describe()"
   ]
  },
  {
   "cell_type": "code",
   "execution_count": null,
   "metadata": {},
   "outputs": [],
   "source": [
    "df.T"
   ]
  },
  {
   "cell_type": "code",
   "execution_count": null,
   "metadata": {},
   "outputs": [],
   "source": [
    "df2.T"
   ]
  },
  {
   "cell_type": "code",
   "execution_count": null,
   "metadata": {},
   "outputs": [],
   "source": [
    "df.sort_index(axis=1, ascending=True)"
   ]
  },
  {
   "cell_type": "code",
   "execution_count": null,
   "metadata": {},
   "outputs": [],
   "source": [
    "df.sort_values(by='B')"
   ]
  },
  {
   "cell_type": "markdown",
   "metadata": {},
   "source": [
    "# Selection"
   ]
  },
  {
   "cell_type": "code",
   "execution_count": null,
   "metadata": {},
   "outputs": [],
   "source": [
    "df['A']"
   ]
  },
  {
   "cell_type": "code",
   "execution_count": null,
   "metadata": {},
   "outputs": [],
   "source": [
    "df[1:3]\n",
    "#df['20130102':'20130104']"
   ]
  },
  {
   "cell_type": "code",
   "execution_count": 7,
   "metadata": {},
   "outputs": [
    {
     "ename": "NameError",
     "evalue": "name 'dates' is not defined",
     "output_type": "error",
     "traceback": [
      "\u001b[1;31m---------------------------------------------------------------------------\u001b[0m",
      "\u001b[1;31mNameError\u001b[0m                                 Traceback (most recent call last)",
      "\u001b[1;32m<ipython-input-7-e263599cf9aa>\u001b[0m in \u001b[0;36m<module>\u001b[1;34m()\u001b[0m\n\u001b[1;32m----> 1\u001b[1;33m \u001b[0mdf\u001b[0m\u001b[1;33m.\u001b[0m\u001b[0mloc\u001b[0m\u001b[1;33m[\u001b[0m\u001b[0mdates\u001b[0m\u001b[1;33m[\u001b[0m\u001b[1;36m1\u001b[0m\u001b[1;33m]\u001b[0m\u001b[1;33m]\u001b[0m\u001b[1;33m\u001b[0m\u001b[0m\n\u001b[0m",
      "\u001b[1;31mNameError\u001b[0m: name 'dates' is not defined"
     ]
    }
   ],
   "source": [
    "df.loc[dates[1]]"
   ]
  },
  {
   "cell_type": "code",
   "execution_count": null,
   "metadata": {},
   "outputs": [],
   "source": [
    "df.loc[:,['A','B']]"
   ]
  },
  {
   "cell_type": "code",
   "execution_count": null,
   "metadata": {},
   "outputs": [],
   "source": [
    "df.loc['20130102':'20130104', ['C','D']]"
   ]
  },
  {
   "cell_type": "code",
   "execution_count": null,
   "metadata": {},
   "outputs": [],
   "source": [
    "df.loc['20130102', ['C','D']]"
   ]
  },
  {
   "cell_type": "code",
   "execution_count": null,
   "metadata": {},
   "outputs": [],
   "source": [
    "df.loc['20130103', 'D']"
   ]
  },
  {
   "cell_type": "code",
   "execution_count": null,
   "metadata": {},
   "outputs": [],
   "source": [
    "df.at[dates[2], 'D']"
   ]
  },
  {
   "cell_type": "code",
   "execution_count": null,
   "metadata": {},
   "outputs": [],
   "source": [
    "df.iloc[3]"
   ]
  },
  {
   "cell_type": "code",
   "execution_count": null,
   "metadata": {},
   "outputs": [],
   "source": [
    "df.iloc[3:4]"
   ]
  },
  {
   "cell_type": "code",
   "execution_count": null,
   "metadata": {},
   "outputs": [],
   "source": [
    "df.iloc[3:5, 1:3]"
   ]
  },
  {
   "cell_type": "code",
   "execution_count": null,
   "metadata": {},
   "outputs": [],
   "source": [
    "df.iloc[[1,2,4],[1,3]]"
   ]
  },
  {
   "cell_type": "code",
   "execution_count": null,
   "metadata": {},
   "outputs": [],
   "source": [
    "df.iloc[1:3,:]"
   ]
  },
  {
   "cell_type": "code",
   "execution_count": null,
   "metadata": {},
   "outputs": [],
   "source": [
    "df.iloc[:, 1:3]"
   ]
  },
  {
   "cell_type": "code",
   "execution_count": null,
   "metadata": {},
   "outputs": [],
   "source": [
    "df.iloc[2,3]"
   ]
  },
  {
   "cell_type": "code",
   "execution_count": null,
   "metadata": {},
   "outputs": [],
   "source": [
    "df.iat[2,3]"
   ]
  },
  {
   "cell_type": "code",
   "execution_count": null,
   "metadata": {},
   "outputs": [],
   "source": [
    "df[df.A >0]"
   ]
  },
  {
   "cell_type": "code",
   "execution_count": null,
   "metadata": {},
   "outputs": [],
   "source": [
    "df[df >0]"
   ]
  },
  {
   "cell_type": "code",
   "execution_count": null,
   "metadata": {},
   "outputs": [],
   "source": [
    "df"
   ]
  },
  {
   "cell_type": "code",
   "execution_count": null,
   "metadata": {},
   "outputs": [],
   "source": [
    "df2 = df.copy()\n",
    "df2"
   ]
  },
  {
   "cell_type": "code",
   "execution_count": null,
   "metadata": {},
   "outputs": [],
   "source": [
    "df2['E'] = ['one', 'one', 'two', 'three', 'four', 'three']\n",
    "df2"
   ]
  },
  {
   "cell_type": "code",
   "execution_count": null,
   "metadata": {},
   "outputs": [],
   "source": [
    "df2[df2['E'].isin(['one','three'])]"
   ]
  },
  {
   "cell_type": "markdown",
   "metadata": {},
   "source": [
    "# Settings"
   ]
  },
  {
   "cell_type": "code",
   "execution_count": null,
   "metadata": {},
   "outputs": [],
   "source": [
    "s1 = pd.Series([1,2,3,4,5,6], index=pd.date_range('20130102', periods=6))\n",
    "s1"
   ]
  },
  {
   "cell_type": "code",
   "execution_count": null,
   "metadata": {},
   "outputs": [],
   "source": [
    "df['F'] = s1\n",
    "df"
   ]
  },
  {
   "cell_type": "code",
   "execution_count": null,
   "metadata": {},
   "outputs": [],
   "source": [
    "df.at[dates[0],'A'] = 1\n",
    "df.iat[0,1] = 2\n",
    "df.loc[:, 'D'] = np.array([5] * len(df))\n",
    "df"
   ]
  },
  {
   "cell_type": "code",
   "execution_count": null,
   "metadata": {},
   "outputs": [],
   "source": [
    "df3 = df.copy()\n",
    "df3[df3>0] = -df3\n",
    "df3"
   ]
  },
  {
   "cell_type": "markdown",
   "metadata": {},
   "source": [
    "# Missing Data"
   ]
  },
  {
   "cell_type": "code",
   "execution_count": null,
   "metadata": {},
   "outputs": [],
   "source": [
    "df1 = df.reindex(index = dates[0:4], columns=list(df.columns) + ['E'])\n",
    "df1.loc[dates[0]:dates[1],'E'] = 1\n",
    "df1"
   ]
  },
  {
   "cell_type": "code",
   "execution_count": null,
   "metadata": {},
   "outputs": [],
   "source": [
    "df1.dropna(how='any')"
   ]
  },
  {
   "cell_type": "code",
   "execution_count": null,
   "metadata": {},
   "outputs": [],
   "source": [
    "df4 = df1.fillna(value=5)\n",
    "df4"
   ]
  },
  {
   "cell_type": "code",
   "execution_count": null,
   "metadata": {},
   "outputs": [],
   "source": [
    "df1"
   ]
  },
  {
   "cell_type": "code",
   "execution_count": null,
   "metadata": {},
   "outputs": [],
   "source": [
    "pd.isna(df1)"
   ]
  },
  {
   "cell_type": "markdown",
   "metadata": {},
   "source": [
    "# Operations"
   ]
  },
  {
   "cell_type": "code",
   "execution_count": null,
   "metadata": {},
   "outputs": [],
   "source": [
    "df"
   ]
  },
  {
   "cell_type": "code",
   "execution_count": null,
   "metadata": {},
   "outputs": [],
   "source": [
    "df.mean()"
   ]
  },
  {
   "cell_type": "code",
   "execution_count": null,
   "metadata": {},
   "outputs": [],
   "source": [
    "df.mean(1)"
   ]
  },
  {
   "cell_type": "code",
   "execution_count": null,
   "metadata": {},
   "outputs": [],
   "source": [
    "s = pd.Series([1,3,5,np.nan,6,8], index=dates).shift(2)\n",
    "s"
   ]
  },
  {
   "cell_type": "code",
   "execution_count": null,
   "metadata": {},
   "outputs": [],
   "source": [
    "df.sub(s, axis='index')"
   ]
  },
  {
   "cell_type": "markdown",
   "metadata": {},
   "source": [
    "# Apply"
   ]
  },
  {
   "cell_type": "code",
   "execution_count": null,
   "metadata": {},
   "outputs": [],
   "source": [
    "df.apply(np.cumsum)"
   ]
  },
  {
   "cell_type": "code",
   "execution_count": null,
   "metadata": {},
   "outputs": [],
   "source": [
    "df.apply(lambda x: x.max()-x.min())"
   ]
  },
  {
   "cell_type": "markdown",
   "metadata": {},
   "source": [
    "# Histogramming"
   ]
  },
  {
   "cell_type": "code",
   "execution_count": null,
   "metadata": {},
   "outputs": [],
   "source": [
    "s = pd.Series(np.random.randint(0,7, size=10))\n",
    "s"
   ]
  },
  {
   "cell_type": "code",
   "execution_count": null,
   "metadata": {},
   "outputs": [],
   "source": [
    "s.value_counts()"
   ]
  },
  {
   "cell_type": "markdown",
   "metadata": {},
   "source": [
    "# String Method"
   ]
  },
  {
   "cell_type": "code",
   "execution_count": null,
   "metadata": {},
   "outputs": [],
   "source": [
    "s = pd.Series(['A', 'B', 'C', 'Aaba', 'Baca', np.nan, 'CABA', 'dog', 'cat'])\n",
    "s"
   ]
  },
  {
   "cell_type": "code",
   "execution_count": null,
   "metadata": {},
   "outputs": [],
   "source": [
    "s.str.lower()"
   ]
  },
  {
   "cell_type": "markdown",
   "metadata": {},
   "source": [
    "# Merge - concat"
   ]
  },
  {
   "cell_type": "code",
   "execution_count": null,
   "metadata": {},
   "outputs": [],
   "source": [
    "df = pd.DataFrame(np.random.randn(10,4))\n",
    "df"
   ]
  },
  {
   "cell_type": "code",
   "execution_count": null,
   "metadata": {},
   "outputs": [],
   "source": [
    "pieces = [df[:3], df[3:7], df[7:]]\n",
    "pieces"
   ]
  },
  {
   "cell_type": "code",
   "execution_count": null,
   "metadata": {},
   "outputs": [],
   "source": [
    "pd.concat(pieces)"
   ]
  },
  {
   "cell_type": "markdown",
   "metadata": {},
   "source": [
    "# Merge - Join"
   ]
  },
  {
   "cell_type": "code",
   "execution_count": null,
   "metadata": {},
   "outputs": [],
   "source": [
    "left = pd.DataFrame({'key':['foo','foo'], 'lval': [1,2]})\n",
    "right = pd.DataFrame({'key':['foo','foo'], 'rval': [4,5]})\n",
    "pd.merge(left,right,on='key')"
   ]
  },
  {
   "cell_type": "code",
   "execution_count": null,
   "metadata": {},
   "outputs": [],
   "source": [
    "left = pd.DataFrame({'key':['foo','bar'], 'lval': [1,2]})\n",
    "right = pd.DataFrame({'key':['foo','bar'], 'rval': [4,5]})\n",
    "pd.merge(left,right,on='key')"
   ]
  },
  {
   "cell_type": "markdown",
   "metadata": {},
   "source": [
    "# Merge - Append"
   ]
  },
  {
   "cell_type": "code",
   "execution_count": null,
   "metadata": {},
   "outputs": [],
   "source": [
    "df = pd.DataFrame(np.random.randn(8,4), columns=list('ABCD'))\n",
    "df"
   ]
  },
  {
   "cell_type": "code",
   "execution_count": null,
   "metadata": {},
   "outputs": [],
   "source": [
    "s = df.iloc[3]\n",
    "df.append(s, ignore_index=True)\n"
   ]
  },
  {
   "cell_type": "markdown",
   "metadata": {},
   "source": [
    "# Merge - Grouping"
   ]
  },
  {
   "cell_type": "code",
   "execution_count": null,
   "metadata": {},
   "outputs": [],
   "source": [
    "df = pd.DataFrame({ 'A' : ['foo', 'bar', 'foo', 'bar', 'foo', 'bar', 'foo', 'foo'],\n",
    "                    'B' : ['one', 'one', 'two', 'three', 'two', 'two', 'one', 'three'],\n",
    "                    'C' : np.random.randn(8),\n",
    "                    'D' : np.random.randn(8)})\n",
    "df"
   ]
  },
  {
   "cell_type": "code",
   "execution_count": null,
   "metadata": {},
   "outputs": [],
   "source": [
    "df.groupby('A').median()"
   ]
  },
  {
   "cell_type": "code",
   "execution_count": null,
   "metadata": {},
   "outputs": [],
   "source": [
    "df.groupby('B').mean()"
   ]
  },
  {
   "cell_type": "markdown",
   "metadata": {},
   "source": [
    "# Merge - Resharping"
   ]
  },
  {
   "cell_type": "code",
   "execution_count": null,
   "metadata": {},
   "outputs": [],
   "source": [
    "tuples = list(zip(*[['bar','bar','baz','baz','foo','foo','qux','qux'],\n",
    "                    ['one','two','one','two','one','two','one','two']]))\n",
    "index = pd.MultiIndex.from_tuples(tuples, names=['first','second'])\n",
    "index"
   ]
  },
  {
   "cell_type": "code",
   "execution_count": null,
   "metadata": {},
   "outputs": [],
   "source": [
    "df = pd.DataFrame(np.random.randn(8,2), index=index, columns=['A','B'])\n",
    "df"
   ]
  },
  {
   "cell_type": "code",
   "execution_count": null,
   "metadata": {},
   "outputs": [],
   "source": [
    "df2 = df[:4]\n",
    "df2"
   ]
  },
  {
   "cell_type": "code",
   "execution_count": null,
   "metadata": {},
   "outputs": [],
   "source": [
    "stacked = df2.stack()\n",
    "stacked"
   ]
  },
  {
   "cell_type": "code",
   "execution_count": null,
   "metadata": {},
   "outputs": [],
   "source": [
    "stacked.unstack()"
   ]
  },
  {
   "cell_type": "code",
   "execution_count": null,
   "metadata": {},
   "outputs": [],
   "source": [
    "stacked.unstack(1)"
   ]
  },
  {
   "cell_type": "code",
   "execution_count": null,
   "metadata": {},
   "outputs": [],
   "source": [
    "stacked.unstack(0)"
   ]
  },
  {
   "cell_type": "markdown",
   "metadata": {},
   "source": [
    "# Pivot Tables"
   ]
  },
  {
   "cell_type": "code",
   "execution_count": null,
   "metadata": {},
   "outputs": [],
   "source": [
    "df = pd.DataFrame({'A' : ['one', 'one', 'two', 'three'] * 3,\n",
    "                   'B' : ['A','B','C'] * 4,\n",
    "                   'C' : ['foo','foo','foo','bar','bar','bar'] * 2,\n",
    "                   'D' : np.random.randn(12),\n",
    "                   'E' : np.random.randn(12)})\n",
    "df"
   ]
  },
  {
   "cell_type": "code",
   "execution_count": null,
   "metadata": {},
   "outputs": [],
   "source": [
    "pd.pivot_table(df, values='D', index=['A','B'], columns = ['C'])"
   ]
  },
  {
   "cell_type": "markdown",
   "metadata": {},
   "source": [
    "# Time Series"
   ]
  },
  {
   "cell_type": "code",
   "execution_count": null,
   "metadata": {},
   "outputs": [],
   "source": [
    "rng = pd.date_range('1/1/2010', periods=100, freq='S')\n",
    "rng\n",
    "type(rng)"
   ]
  },
  {
   "cell_type": "code",
   "execution_count": null,
   "metadata": {},
   "outputs": [],
   "source": [
    "ts = pd.Series(np.random.randint(0,500, len(rng)), index=rng)\n",
    "ts"
   ]
  },
  {
   "cell_type": "code",
   "execution_count": null,
   "metadata": {},
   "outputs": [],
   "source": [
    "ts.resample('5Min')"
   ]
  },
  {
   "cell_type": "code",
   "execution_count": null,
   "metadata": {},
   "outputs": [],
   "source": [
    "ts.resample('5Min').sum()"
   ]
  },
  {
   "cell_type": "code",
   "execution_count": null,
   "metadata": {},
   "outputs": [],
   "source": [
    "ts.sum()"
   ]
  },
  {
   "cell_type": "markdown",
   "metadata": {},
   "source": [
    "# TIme zone"
   ]
  },
  {
   "cell_type": "code",
   "execution_count": null,
   "metadata": {},
   "outputs": [],
   "source": [
    "rng = pd.date_range('3/6/2012 00:00', periods=5, freq='D')\n",
    "rng"
   ]
  },
  {
   "cell_type": "code",
   "execution_count": null,
   "metadata": {},
   "outputs": [],
   "source": [
    "ts = pd.Series(np.random.randn(len(rng)), rng)\n",
    "ts"
   ]
  },
  {
   "cell_type": "code",
   "execution_count": null,
   "metadata": {},
   "outputs": [],
   "source": [
    "ts_utc = ts.tz_localize('UTC')\n",
    "ts_utc"
   ]
  },
  {
   "cell_type": "code",
   "execution_count": null,
   "metadata": {},
   "outputs": [],
   "source": [
    "ts_utc.tz_convert('US/Eastern')"
   ]
  },
  {
   "cell_type": "code",
   "execution_count": null,
   "metadata": {},
   "outputs": [],
   "source": [
    "rng = pd.date_range('1/1/2012', periods=5, freq='M')\n",
    "ts = pd.Series(np.random.randn(len(rng)), index = rng)\n",
    "ts"
   ]
  },
  {
   "cell_type": "code",
   "execution_count": null,
   "metadata": {},
   "outputs": [],
   "source": [
    "ps = ts.to_period()\n",
    "ps"
   ]
  },
  {
   "cell_type": "code",
   "execution_count": null,
   "metadata": {},
   "outputs": [],
   "source": [
    "ps.to_timestamp()"
   ]
  },
  {
   "cell_type": "code",
   "execution_count": null,
   "metadata": {},
   "outputs": [],
   "source": [
    "prng = pd.period_range('1990Q1', '2000Q4', freq='Q-NOV')\n",
    "prng"
   ]
  },
  {
   "cell_type": "code",
   "execution_count": null,
   "metadata": {},
   "outputs": [],
   "source": [
    "ts = pd.Series(np.random.randn(len(prng)), index=prng)\n",
    "ts"
   ]
  },
  {
   "cell_type": "code",
   "execution_count": null,
   "metadata": {},
   "outputs": [],
   "source": [
    "ts.index = (prng.asfreq(\"M\", 'e')+1).asfreq('H', 's') + 9\n",
    "ts.head()"
   ]
  },
  {
   "cell_type": "markdown",
   "metadata": {},
   "source": [
    "# Categoricals"
   ]
  },
  {
   "cell_type": "code",
   "execution_count": null,
   "metadata": {},
   "outputs": [],
   "source": [
    "df = pd.DataFrame({\"id\":[1,2,3,4,5,6], \"raw_grade\":['a','b','b','a','a','e']})\n",
    "df[\"grade\"] = df[\"raw_grade\"].astype(\"category\")\n",
    "df[\"grade\"]"
   ]
  },
  {
   "cell_type": "code",
   "execution_count": null,
   "metadata": {},
   "outputs": [],
   "source": [
    "df[\"grade\"].cat.categories = [\"very good\", \"good\", \"very bad\"]\n",
    "df[\"grade\"]"
   ]
  },
  {
   "cell_type": "code",
   "execution_count": null,
   "metadata": {},
   "outputs": [],
   "source": [
    "df[\"grade\"] = df[\"grade\"].cat.set_categories([\"very bad\", \"bad\", \"medium\", \"good\", \"very good\"])\n",
    "df[\"grade\"]"
   ]
  },
  {
   "cell_type": "code",
   "execution_count": null,
   "metadata": {},
   "outputs": [],
   "source": [
    "df.sort_values(by=\"grade\")"
   ]
  },
  {
   "cell_type": "code",
   "execution_count": null,
   "metadata": {},
   "outputs": [],
   "source": [
    "df.groupby(\"grade\").size()"
   ]
  },
  {
   "cell_type": "markdown",
   "metadata": {},
   "source": [
    "# Plotting"
   ]
  },
  {
   "cell_type": "code",
   "execution_count": 5,
   "metadata": {},
   "outputs": [
    {
     "data": {
      "text/plain": [
       "<matplotlib.axes._subplots.AxesSubplot at 0x1aa18a71b70>"
      ]
     },
     "execution_count": 5,
     "metadata": {},
     "output_type": "execute_result"
    },
    {
     "data": {
      "image/png": "[encoded data removed]",
      "text/plain": [
       "<matplotlib.figure.Figure at 0x1aa168cb940>"
      ]
     },
     "metadata": {},
     "output_type": "display_data"
    }
   ],
   "source": [
    "ts = pd.Series(np.random.randn(1000), index = pd.date_range('1/1/2000', periods=1000))\n",
    "ts = ts.cumsum()\n",
    "ts.plot()"
   ]
  },
  {
   "cell_type": "code",
   "execution_count": 9,
   "metadata": {},
   "outputs": [
    {
     "data": {
      "text/plain": [
       "<matplotlib.legend.Legend at 0x1aa18d6a630>"
      ]
     },
     "execution_count": 9,
     "metadata": {},
     "output_type": "execute_result"
    },
    {
     "data": {
      "text/plain": [
       "<matplotlib.figure.Figure at 0x1aa18c24b00>"
      ]
     },
     "metadata": {},
     "output_type": "display_data"
    },
    {
     "data": {
      "image/png": "[encoded data removed]",
      "text/plain": [
       "<matplotlib.figure.Figure at 0x1aa18d6a0f0>"
      ]
     },
     "metadata": {},
     "output_type": "display_data"
    }
   ],
   "source": [
    "df = pd.DataFrame(np.random.randn(1000, 4), index=ts.index,columns=['A', 'B', 'C', 'D'])\n",
    "df = df.cumsum()\n",
    "plt.figure(); df.plot(); plt.legend(loc='best')\n"
   ]
  },
  {
   "cell_type": "markdown",
   "metadata": {},
   "source": [
    "# Data In/Out"
   ]
  },
  {
   "cell_type": "code",
   "execution_count": 12,
   "metadata": {},
   "outputs": [],
   "source": [
    "df.to_csv(\"foo.csv\")"
   ]
  },
  {
   "cell_type": "code",
   "execution_count": 13,
   "metadata": {},
   "outputs": [
    {
     "data": {
      "text/html": [
       "<div>\n",
       "<style scoped>\n",
       "    .dataframe tbody tr th:only-of-type {\n",
       "        vertical-align: middle;\n",
       "    }\n",
       "\n",
       "    .dataframe tbody tr th {\n",
       "        vertical-align: top;\n",
       "    }\n",
       "\n",
       "    .dataframe thead th {\n",
       "        text-align: right;\n",
       "    }\n",
       "</style>\n",
       "<table border=\"1\" class=\"dataframe\">\n",
       "  <thead>\n",
       "    <tr style=\"text-align: right;\">\n",
       "      <th></th>\n",
       "      <th>Unnamed: 0</th>\n",
       "      <th>A</th>\n",
       "      <th>B</th>\n",
       "      <th>C</th>\n",
       "      <th>D</th>\n",
       "    </tr>\n",
       "  </thead>\n",
       "  <tbody>\n",
       "    <tr>\n",
       "      <th>0</th>\n",
       "      <td>2000-01-01</td>\n",
       "      <td>-0.256019</td>\n",
       "      <td>-0.248407</td>\n",
       "      <td>-1.050988</td>\n",
       "      <td>0.632031</td>\n",
       "    </tr>\n",
       "    <tr>\n",
       "      <th>1</th>\n",
       "      <td>2000-01-02</td>\n",
       "      <td>-0.284421</td>\n",
       "      <td>-1.003280</td>\n",
       "      <td>-0.982993</td>\n",
       "      <td>0.832507</td>\n",
       "    </tr>\n",
       "    <tr>\n",
       "      <th>2</th>\n",
       "      <td>2000-01-03</td>\n",
       "      <td>0.867691</td>\n",
       "      <td>1.093355</td>\n",
       "      <td>-1.625412</td>\n",
       "      <td>3.381460</td>\n",
       "    </tr>\n",
       "    <tr>\n",
       "      <th>3</th>\n",
       "      <td>2000-01-04</td>\n",
       "      <td>2.502736</td>\n",
       "      <td>1.723373</td>\n",
       "      <td>-2.268346</td>\n",
       "      <td>2.424258</td>\n",
       "    </tr>\n",
       "    <tr>\n",
       "      <th>4</th>\n",
       "      <td>2000-01-05</td>\n",
       "      <td>1.769886</td>\n",
       "      <td>2.439541</td>\n",
       "      <td>-1.662342</td>\n",
       "      <td>3.127141</td>\n",
       "    </tr>\n",
       "    <tr>\n",
       "      <th>5</th>\n",
       "      <td>2000-01-06</td>\n",
       "      <td>0.472868</td>\n",
       "      <td>1.700058</td>\n",
       "      <td>-2.334143</td>\n",
       "      <td>2.379602</td>\n",
       "    </tr>\n",
       "    <tr>\n",
       "      <th>6</th>\n",
       "      <td>2000-01-07</td>\n",
       "      <td>0.380735</td>\n",
       "      <td>-0.413386</td>\n",
       "      <td>-4.158878</td>\n",
       "      <td>2.198842</td>\n",
       "    </tr>\n",
       "    <tr>\n",
       "      <th>7</th>\n",
       "      <td>2000-01-08</td>\n",
       "      <td>-0.094763</td>\n",
       "      <td>0.349831</td>\n",
       "      <td>-4.761395</td>\n",
       "      <td>3.051630</td>\n",
       "    </tr>\n",
       "    <tr>\n",
       "      <th>8</th>\n",
       "      <td>2000-01-09</td>\n",
       "      <td>1.091160</td>\n",
       "      <td>-0.210475</td>\n",
       "      <td>-5.393439</td>\n",
       "      <td>1.607648</td>\n",
       "    </tr>\n",
       "    <tr>\n",
       "      <th>9</th>\n",
       "      <td>2000-01-10</td>\n",
       "      <td>-0.104659</td>\n",
       "      <td>-1.265260</td>\n",
       "      <td>-4.916085</td>\n",
       "      <td>1.883927</td>\n",
       "    </tr>\n",
       "    <tr>\n",
       "      <th>10</th>\n",
       "      <td>2000-01-11</td>\n",
       "      <td>0.208455</td>\n",
       "      <td>-0.398955</td>\n",
       "      <td>-3.468888</td>\n",
       "      <td>2.941863</td>\n",
       "    </tr>\n",
       "    <tr>\n",
       "      <th>11</th>\n",
       "      <td>2000-01-12</td>\n",
       "      <td>0.217033</td>\n",
       "      <td>0.529063</td>\n",
       "      <td>-3.802967</td>\n",
       "      <td>3.871727</td>\n",
       "    </tr>\n",
       "    <tr>\n",
       "      <th>12</th>\n",
       "      <td>2000-01-13</td>\n",
       "      <td>0.233280</td>\n",
       "      <td>2.303796</td>\n",
       "      <td>-2.457410</td>\n",
       "      <td>1.564072</td>\n",
       "    </tr>\n",
       "    <tr>\n",
       "      <th>13</th>\n",
       "      <td>2000-01-14</td>\n",
       "      <td>0.279525</td>\n",
       "      <td>2.923834</td>\n",
       "      <td>-2.755939</td>\n",
       "      <td>2.547012</td>\n",
       "    </tr>\n",
       "    <tr>\n",
       "      <th>14</th>\n",
       "      <td>2000-01-15</td>\n",
       "      <td>-1.169674</td>\n",
       "      <td>3.371502</td>\n",
       "      <td>-2.525154</td>\n",
       "      <td>3.091909</td>\n",
       "    </tr>\n",
       "    <tr>\n",
       "      <th>15</th>\n",
       "      <td>2000-01-16</td>\n",
       "      <td>-2.576686</td>\n",
       "      <td>2.414244</td>\n",
       "      <td>-2.023093</td>\n",
       "      <td>4.494992</td>\n",
       "    </tr>\n",
       "    <tr>\n",
       "      <th>16</th>\n",
       "      <td>2000-01-17</td>\n",
       "      <td>-3.129222</td>\n",
       "      <td>2.891594</td>\n",
       "      <td>-1.642917</td>\n",
       "      <td>5.434991</td>\n",
       "    </tr>\n",
       "    <tr>\n",
       "      <th>17</th>\n",
       "      <td>2000-01-18</td>\n",
       "      <td>-4.526116</td>\n",
       "      <td>2.902255</td>\n",
       "      <td>-0.547969</td>\n",
       "      <td>4.950338</td>\n",
       "    </tr>\n",
       "    <tr>\n",
       "      <th>18</th>\n",
       "      <td>2000-01-19</td>\n",
       "      <td>-3.715164</td>\n",
       "      <td>3.024816</td>\n",
       "      <td>-0.438104</td>\n",
       "      <td>6.476258</td>\n",
       "    </tr>\n",
       "    <tr>\n",
       "      <th>19</th>\n",
       "      <td>2000-01-20</td>\n",
       "      <td>-3.633070</td>\n",
       "      <td>4.099193</td>\n",
       "      <td>-0.173657</td>\n",
       "      <td>3.450132</td>\n",
       "    </tr>\n",
       "    <tr>\n",
       "      <th>20</th>\n",
       "      <td>2000-01-21</td>\n",
       "      <td>-2.463229</td>\n",
       "      <td>5.792932</td>\n",
       "      <td>2.540370</td>\n",
       "      <td>4.841686</td>\n",
       "    </tr>\n",
       "    <tr>\n",
       "      <th>21</th>\n",
       "      <td>2000-01-22</td>\n",
       "      <td>-3.411934</td>\n",
       "      <td>3.316054</td>\n",
       "      <td>1.505630</td>\n",
       "      <td>6.421280</td>\n",
       "    </tr>\n",
       "    <tr>\n",
       "      <th>22</th>\n",
       "      <td>2000-01-23</td>\n",
       "      <td>-2.834529</td>\n",
       "      <td>3.763267</td>\n",
       "      <td>1.326337</td>\n",
       "      <td>6.684822</td>\n",
       "    </tr>\n",
       "    <tr>\n",
       "      <th>23</th>\n",
       "      <td>2000-01-24</td>\n",
       "      <td>-3.373162</td>\n",
       "      <td>2.115173</td>\n",
       "      <td>1.365493</td>\n",
       "      <td>6.754354</td>\n",
       "    </tr>\n",
       "    <tr>\n",
       "      <th>24</th>\n",
       "      <td>2000-01-25</td>\n",
       "      <td>-4.193648</td>\n",
       "      <td>2.424730</td>\n",
       "      <td>1.664556</td>\n",
       "      <td>7.143064</td>\n",
       "    </tr>\n",
       "    <tr>\n",
       "      <th>25</th>\n",
       "      <td>2000-01-26</td>\n",
       "      <td>-3.761791</td>\n",
       "      <td>1.178587</td>\n",
       "      <td>1.106935</td>\n",
       "      <td>8.186283</td>\n",
       "    </tr>\n",
       "    <tr>\n",
       "      <th>26</th>\n",
       "      <td>2000-01-27</td>\n",
       "      <td>-4.161366</td>\n",
       "      <td>1.998383</td>\n",
       "      <td>1.155950</td>\n",
       "      <td>8.296275</td>\n",
       "    </tr>\n",
       "    <tr>\n",
       "      <th>27</th>\n",
       "      <td>2000-01-28</td>\n",
       "      <td>-5.713622</td>\n",
       "      <td>3.595050</td>\n",
       "      <td>1.359018</td>\n",
       "      <td>10.147674</td>\n",
       "    </tr>\n",
       "    <tr>\n",
       "      <th>28</th>\n",
       "      <td>2000-01-29</td>\n",
       "      <td>-5.943516</td>\n",
       "      <td>3.409306</td>\n",
       "      <td>1.968708</td>\n",
       "      <td>8.853304</td>\n",
       "    </tr>\n",
       "    <tr>\n",
       "      <th>29</th>\n",
       "      <td>2000-01-30</td>\n",
       "      <td>-4.876209</td>\n",
       "      <td>2.802180</td>\n",
       "      <td>-0.051146</td>\n",
       "      <td>7.448863</td>\n",
       "    </tr>\n",
       "    <tr>\n",
       "      <th>...</th>\n",
       "      <td>...</td>\n",
       "      <td>...</td>\n",
       "      <td>...</td>\n",
       "      <td>...</td>\n",
       "      <td>...</td>\n",
       "    </tr>\n",
       "    <tr>\n",
       "      <th>970</th>\n",
       "      <td>2002-08-28</td>\n",
       "      <td>-2.361679</td>\n",
       "      <td>-49.255703</td>\n",
       "      <td>38.895366</td>\n",
       "      <td>49.307943</td>\n",
       "    </tr>\n",
       "    <tr>\n",
       "      <th>971</th>\n",
       "      <td>2002-08-29</td>\n",
       "      <td>-3.133232</td>\n",
       "      <td>-50.174981</td>\n",
       "      <td>38.418517</td>\n",
       "      <td>49.189224</td>\n",
       "    </tr>\n",
       "    <tr>\n",
       "      <th>972</th>\n",
       "      <td>2002-08-30</td>\n",
       "      <td>-2.811382</td>\n",
       "      <td>-48.098670</td>\n",
       "      <td>38.133702</td>\n",
       "      <td>47.946097</td>\n",
       "    </tr>\n",
       "    <tr>\n",
       "      <th>973</th>\n",
       "      <td>2002-08-31</td>\n",
       "      <td>-2.883342</td>\n",
       "      <td>-47.075141</td>\n",
       "      <td>38.940087</td>\n",
       "      <td>49.816204</td>\n",
       "    </tr>\n",
       "    <tr>\n",
       "      <th>974</th>\n",
       "      <td>2002-09-01</td>\n",
       "      <td>-1.850523</td>\n",
       "      <td>-48.273698</td>\n",
       "      <td>39.035098</td>\n",
       "      <td>49.944752</td>\n",
       "    </tr>\n",
       "    <tr>\n",
       "      <th>975</th>\n",
       "      <td>2002-09-02</td>\n",
       "      <td>-1.991150</td>\n",
       "      <td>-47.854872</td>\n",
       "      <td>38.133855</td>\n",
       "      <td>48.494500</td>\n",
       "    </tr>\n",
       "    <tr>\n",
       "      <th>976</th>\n",
       "      <td>2002-09-03</td>\n",
       "      <td>-0.265814</td>\n",
       "      <td>-48.074742</td>\n",
       "      <td>38.263518</td>\n",
       "      <td>49.715110</td>\n",
       "    </tr>\n",
       "    <tr>\n",
       "      <th>977</th>\n",
       "      <td>2002-09-04</td>\n",
       "      <td>-1.731186</td>\n",
       "      <td>-48.530863</td>\n",
       "      <td>37.762673</td>\n",
       "      <td>49.543876</td>\n",
       "    </tr>\n",
       "    <tr>\n",
       "      <th>978</th>\n",
       "      <td>2002-09-05</td>\n",
       "      <td>0.042566</td>\n",
       "      <td>-47.858836</td>\n",
       "      <td>38.242968</td>\n",
       "      <td>48.567867</td>\n",
       "    </tr>\n",
       "    <tr>\n",
       "      <th>979</th>\n",
       "      <td>2002-09-06</td>\n",
       "      <td>-0.202352</td>\n",
       "      <td>-47.972237</td>\n",
       "      <td>37.025318</td>\n",
       "      <td>48.007138</td>\n",
       "    </tr>\n",
       "    <tr>\n",
       "      <th>980</th>\n",
       "      <td>2002-09-07</td>\n",
       "      <td>-1.031524</td>\n",
       "      <td>-47.343726</td>\n",
       "      <td>37.705333</td>\n",
       "      <td>48.598453</td>\n",
       "    </tr>\n",
       "    <tr>\n",
       "      <th>981</th>\n",
       "      <td>2002-09-08</td>\n",
       "      <td>-1.286647</td>\n",
       "      <td>-47.467557</td>\n",
       "      <td>37.865724</td>\n",
       "      <td>50.433474</td>\n",
       "    </tr>\n",
       "    <tr>\n",
       "      <th>982</th>\n",
       "      <td>2002-09-09</td>\n",
       "      <td>-1.522353</td>\n",
       "      <td>-48.679778</td>\n",
       "      <td>37.567486</td>\n",
       "      <td>50.422579</td>\n",
       "    </tr>\n",
       "    <tr>\n",
       "      <th>983</th>\n",
       "      <td>2002-09-10</td>\n",
       "      <td>-1.040457</td>\n",
       "      <td>-48.867296</td>\n",
       "      <td>37.079453</td>\n",
       "      <td>50.939660</td>\n",
       "    </tr>\n",
       "    <tr>\n",
       "      <th>984</th>\n",
       "      <td>2002-09-11</td>\n",
       "      <td>-2.589226</td>\n",
       "      <td>-47.618595</td>\n",
       "      <td>36.378789</td>\n",
       "      <td>51.025997</td>\n",
       "    </tr>\n",
       "    <tr>\n",
       "      <th>985</th>\n",
       "      <td>2002-09-12</td>\n",
       "      <td>-3.391242</td>\n",
       "      <td>-47.293261</td>\n",
       "      <td>36.431890</td>\n",
       "      <td>50.356010</td>\n",
       "    </tr>\n",
       "    <tr>\n",
       "      <th>986</th>\n",
       "      <td>2002-09-13</td>\n",
       "      <td>-3.628436</td>\n",
       "      <td>-47.024447</td>\n",
       "      <td>37.020750</td>\n",
       "      <td>51.307422</td>\n",
       "    </tr>\n",
       "    <tr>\n",
       "      <th>987</th>\n",
       "      <td>2002-09-14</td>\n",
       "      <td>-4.606993</td>\n",
       "      <td>-47.295102</td>\n",
       "      <td>38.542467</td>\n",
       "      <td>51.067460</td>\n",
       "    </tr>\n",
       "    <tr>\n",
       "      <th>988</th>\n",
       "      <td>2002-09-15</td>\n",
       "      <td>-4.061604</td>\n",
       "      <td>-46.608078</td>\n",
       "      <td>39.189925</td>\n",
       "      <td>50.824733</td>\n",
       "    </tr>\n",
       "    <tr>\n",
       "      <th>989</th>\n",
       "      <td>2002-09-16</td>\n",
       "      <td>-3.038091</td>\n",
       "      <td>-47.338550</td>\n",
       "      <td>41.442431</td>\n",
       "      <td>50.112926</td>\n",
       "    </tr>\n",
       "    <tr>\n",
       "      <th>990</th>\n",
       "      <td>2002-09-17</td>\n",
       "      <td>-4.164936</td>\n",
       "      <td>-47.043824</td>\n",
       "      <td>42.264496</td>\n",
       "      <td>49.463579</td>\n",
       "    </tr>\n",
       "    <tr>\n",
       "      <th>991</th>\n",
       "      <td>2002-09-18</td>\n",
       "      <td>-4.786975</td>\n",
       "      <td>-45.675306</td>\n",
       "      <td>42.525787</td>\n",
       "      <td>50.922397</td>\n",
       "    </tr>\n",
       "    <tr>\n",
       "      <th>992</th>\n",
       "      <td>2002-09-19</td>\n",
       "      <td>-6.022649</td>\n",
       "      <td>-46.366068</td>\n",
       "      <td>42.332052</td>\n",
       "      <td>50.916507</td>\n",
       "    </tr>\n",
       "    <tr>\n",
       "      <th>993</th>\n",
       "      <td>2002-09-20</td>\n",
       "      <td>-5.942961</td>\n",
       "      <td>-46.070796</td>\n",
       "      <td>40.615010</td>\n",
       "      <td>50.170809</td>\n",
       "    </tr>\n",
       "    <tr>\n",
       "      <th>994</th>\n",
       "      <td>2002-09-21</td>\n",
       "      <td>-5.835332</td>\n",
       "      <td>-46.895410</td>\n",
       "      <td>41.415607</td>\n",
       "      <td>48.535105</td>\n",
       "    </tr>\n",
       "    <tr>\n",
       "      <th>995</th>\n",
       "      <td>2002-09-22</td>\n",
       "      <td>-7.527023</td>\n",
       "      <td>-47.258536</td>\n",
       "      <td>40.350980</td>\n",
       "      <td>47.876448</td>\n",
       "    </tr>\n",
       "    <tr>\n",
       "      <th>996</th>\n",
       "      <td>2002-09-23</td>\n",
       "      <td>-8.328732</td>\n",
       "      <td>-47.860659</td>\n",
       "      <td>40.987221</td>\n",
       "      <td>46.455528</td>\n",
       "    </tr>\n",
       "    <tr>\n",
       "      <th>997</th>\n",
       "      <td>2002-09-24</td>\n",
       "      <td>-9.182517</td>\n",
       "      <td>-47.965201</td>\n",
       "      <td>40.719047</td>\n",
       "      <td>46.055879</td>\n",
       "    </tr>\n",
       "    <tr>\n",
       "      <th>998</th>\n",
       "      <td>2002-09-25</td>\n",
       "      <td>-9.128519</td>\n",
       "      <td>-49.012842</td>\n",
       "      <td>40.614096</td>\n",
       "      <td>46.238184</td>\n",
       "    </tr>\n",
       "    <tr>\n",
       "      <th>999</th>\n",
       "      <td>2002-09-26</td>\n",
       "      <td>-8.084846</td>\n",
       "      <td>-50.362099</td>\n",
       "      <td>40.337945</td>\n",
       "      <td>46.170742</td>\n",
       "    </tr>\n",
       "  </tbody>\n",
       "</table>\n",
       "<p>1000 rows × 5 columns</p>\n",
       "</div>"
      ],
      "text/plain": [
       "     Unnamed: 0         A          B          C          D\n",
       "0    2000-01-01 -0.256019  -0.248407  -1.050988   0.632031\n",
       "1    2000-01-02 -0.284421  -1.003280  -0.982993   0.832507\n",
       "2    2000-01-03  0.867691   1.093355  -1.625412   3.381460\n",
       "3    2000-01-04  2.502736   1.723373  -2.268346   2.424258\n",
       "4    2000-01-05  1.769886   2.439541  -1.662342   3.127141\n",
       "5    2000-01-06  0.472868   1.700058  -2.334143   2.379602\n",
       "6    2000-01-07  0.380735  -0.413386  -4.158878   2.198842\n",
       "7    2000-01-08 -0.094763   0.349831  -4.761395   3.051630\n",
       "8    2000-01-09  1.091160  -0.210475  -5.393439   1.607648\n",
       "9    2000-01-10 -0.104659  -1.265260  -4.916085   1.883927\n",
       "10   2000-01-11  0.208455  -0.398955  -3.468888   2.941863\n",
       "11   2000-01-12  0.217033   0.529063  -3.802967   3.871727\n",
       "12   2000-01-13  0.233280   2.303796  -2.457410   1.564072\n",
       "13   2000-01-14  0.279525   2.923834  -2.755939   2.547012\n",
       "14   2000-01-15 -1.169674   3.371502  -2.525154   3.091909\n",
       "15   2000-01-16 -2.576686   2.414244  -2.023093   4.494992\n",
       "16   2000-01-17 -3.129222   2.891594  -1.642917   5.434991\n",
       "17   2000-01-18 -4.526116   2.902255  -0.547969   4.950338\n",
       "18   2000-01-19 -3.715164   3.024816  -0.438104   6.476258\n",
       "19   2000-01-20 -3.633070   4.099193  -0.173657   3.450132\n",
       "20   2000-01-21 -2.463229   5.792932   2.540370   4.841686\n",
       "21   2000-01-22 -3.411934   3.316054   1.505630   6.421280\n",
       "22   2000-01-23 -2.834529   3.763267   1.326337   6.684822\n",
       "23   2000-01-24 -3.373162   2.115173   1.365493   6.754354\n",
       "24   2000-01-25 -4.193648   2.424730   1.664556   7.143064\n",
       "25   2000-01-26 -3.761791   1.178587   1.106935   8.186283\n",
       "26   2000-01-27 -4.161366   1.998383   1.155950   8.296275\n",
       "27   2000-01-28 -5.713622   3.595050   1.359018  10.147674\n",
       "28   2000-01-29 -5.943516   3.409306   1.968708   8.853304\n",
       "29   2000-01-30 -4.876209   2.802180  -0.051146   7.448863\n",
       "..          ...       ...        ...        ...        ...\n",
       "970  2002-08-28 -2.361679 -49.255703  38.895366  49.307943\n",
       "971  2002-08-29 -3.133232 -50.174981  38.418517  49.189224\n",
       "972  2002-08-30 -2.811382 -48.098670  38.133702  47.946097\n",
       "973  2002-08-31 -2.883342 -47.075141  38.940087  49.816204\n",
       "974  2002-09-01 -1.850523 -48.273698  39.035098  49.944752\n",
       "975  2002-09-02 -1.991150 -47.854872  38.133855  48.494500\n",
       "976  2002-09-03 -0.265814 -48.074742  38.263518  49.715110\n",
       "977  2002-09-04 -1.731186 -48.530863  37.762673  49.543876\n",
       "978  2002-09-05  0.042566 -47.858836  38.242968  48.567867\n",
       "979  2002-09-06 -0.202352 -47.972237  37.025318  48.007138\n",
       "980  2002-09-07 -1.031524 -47.343726  37.705333  48.598453\n",
       "981  2002-09-08 -1.286647 -47.467557  37.865724  50.433474\n",
       "982  2002-09-09 -1.522353 -48.679778  37.567486  50.422579\n",
       "983  2002-09-10 -1.040457 -48.867296  37.079453  50.939660\n",
       "984  2002-09-11 -2.589226 -47.618595  36.378789  51.025997\n",
       "985  2002-09-12 -3.391242 -47.293261  36.431890  50.356010\n",
       "986  2002-09-13 -3.628436 -47.024447  37.020750  51.307422\n",
       "987  2002-09-14 -4.606993 -47.295102  38.542467  51.067460\n",
       "988  2002-09-15 -4.061604 -46.608078  39.189925  50.824733\n",
       "989  2002-09-16 -3.038091 -47.338550  41.442431  50.112926\n",
       "990  2002-09-17 -4.164936 -47.043824  42.264496  49.463579\n",
       "991  2002-09-18 -4.786975 -45.675306  42.525787  50.922397\n",
       "992  2002-09-19 -6.022649 -46.366068  42.332052  50.916507\n",
       "993  2002-09-20 -5.942961 -46.070796  40.615010  50.170809\n",
       "994  2002-09-21 -5.835332 -46.895410  41.415607  48.535105\n",
       "995  2002-09-22 -7.527023 -47.258536  40.350980  47.876448\n",
       "996  2002-09-23 -8.328732 -47.860659  40.987221  46.455528\n",
       "997  2002-09-24 -9.182517 -47.965201  40.719047  46.055879\n",
       "998  2002-09-25 -9.128519 -49.012842  40.614096  46.238184\n",
       "999  2002-09-26 -8.084846 -50.362099  40.337945  46.170742\n",
       "\n",
       "[1000 rows x 5 columns]"
      ]
     },
     "execution_count": 13,
     "metadata": {},
     "output_type": "execute_result"
    }
   ],
   "source": [
    "pd.read_csv(\"foo.csv\")"
   ]
  },
  {
   "cell_type": "code",
   "execution_count": 15,
   "metadata": {},
   "outputs": [],
   "source": [
    "df.to_hdf('foo.h5','df')"
   ]
  },
  {
   "cell_type": "code",
   "execution_count": 18,
   "metadata": {},
   "outputs": [
    {
     "data": {
      "text/html": [
       "<div>\n",
       "<style scoped>\n",
       "    .dataframe tbody tr th:only-of-type {\n",
       "        vertical-align: middle;\n",
       "    }\n",
       "\n",
       "    .dataframe tbody tr th {\n",
       "        vertical-align: top;\n",
       "    }\n",
       "\n",
       "    .dataframe thead th {\n",
       "        text-align: right;\n",
       "    }\n",
       "</style>\n",
       "<table border=\"1\" class=\"dataframe\">\n",
       "  <thead>\n",
       "    <tr style=\"text-align: right;\">\n",
       "      <th></th>\n",
       "      <th>A</th>\n",
       "      <th>B</th>\n",
       "      <th>C</th>\n",
       "      <th>D</th>\n",
       "    </tr>\n",
       "  </thead>\n",
       "  <tbody>\n",
       "    <tr>\n",
       "      <th>2000-01-01</th>\n",
       "      <td>-0.256019</td>\n",
       "      <td>-0.248407</td>\n",
       "      <td>-1.050988</td>\n",
       "      <td>0.632031</td>\n",
       "    </tr>\n",
       "    <tr>\n",
       "      <th>2000-01-02</th>\n",
       "      <td>-0.284421</td>\n",
       "      <td>-1.003280</td>\n",
       "      <td>-0.982993</td>\n",
       "      <td>0.832507</td>\n",
       "    </tr>\n",
       "    <tr>\n",
       "      <th>2000-01-03</th>\n",
       "      <td>0.867691</td>\n",
       "      <td>1.093355</td>\n",
       "      <td>-1.625412</td>\n",
       "      <td>3.381460</td>\n",
       "    </tr>\n",
       "    <tr>\n",
       "      <th>2000-01-04</th>\n",
       "      <td>2.502736</td>\n",
       "      <td>1.723373</td>\n",
       "      <td>-2.268346</td>\n",
       "      <td>2.424258</td>\n",
       "    </tr>\n",
       "    <tr>\n",
       "      <th>2000-01-05</th>\n",
       "      <td>1.769886</td>\n",
       "      <td>2.439541</td>\n",
       "      <td>-1.662342</td>\n",
       "      <td>3.127141</td>\n",
       "    </tr>\n",
       "    <tr>\n",
       "      <th>2000-01-06</th>\n",
       "      <td>0.472868</td>\n",
       "      <td>1.700058</td>\n",
       "      <td>-2.334143</td>\n",
       "      <td>2.379602</td>\n",
       "    </tr>\n",
       "    <tr>\n",
       "      <th>2000-01-07</th>\n",
       "      <td>0.380735</td>\n",
       "      <td>-0.413386</td>\n",
       "      <td>-4.158878</td>\n",
       "      <td>2.198842</td>\n",
       "    </tr>\n",
       "    <tr>\n",
       "      <th>2000-01-08</th>\n",
       "      <td>-0.094763</td>\n",
       "      <td>0.349831</td>\n",
       "      <td>-4.761395</td>\n",
       "      <td>3.051630</td>\n",
       "    </tr>\n",
       "    <tr>\n",
       "      <th>2000-01-09</th>\n",
       "      <td>1.091160</td>\n",
       "      <td>-0.210475</td>\n",
       "      <td>-5.393439</td>\n",
       "      <td>1.607648</td>\n",
       "    </tr>\n",
       "    <tr>\n",
       "      <th>2000-01-10</th>\n",
       "      <td>-0.104659</td>\n",
       "      <td>-1.265260</td>\n",
       "      <td>-4.916085</td>\n",
       "      <td>1.883927</td>\n",
       "    </tr>\n",
       "    <tr>\n",
       "      <th>2000-01-11</th>\n",
       "      <td>0.208455</td>\n",
       "      <td>-0.398955</td>\n",
       "      <td>-3.468888</td>\n",
       "      <td>2.941863</td>\n",
       "    </tr>\n",
       "    <tr>\n",
       "      <th>2000-01-12</th>\n",
       "      <td>0.217033</td>\n",
       "      <td>0.529063</td>\n",
       "      <td>-3.802967</td>\n",
       "      <td>3.871727</td>\n",
       "    </tr>\n",
       "    <tr>\n",
       "      <th>2000-01-13</th>\n",
       "      <td>0.233280</td>\n",
       "      <td>2.303796</td>\n",
       "      <td>-2.457410</td>\n",
       "      <td>1.564072</td>\n",
       "    </tr>\n",
       "    <tr>\n",
       "      <th>2000-01-14</th>\n",
       "      <td>0.279525</td>\n",
       "      <td>2.923834</td>\n",
       "      <td>-2.755939</td>\n",
       "      <td>2.547012</td>\n",
       "    </tr>\n",
       "    <tr>\n",
       "      <th>2000-01-15</th>\n",
       "      <td>-1.169674</td>\n",
       "      <td>3.371502</td>\n",
       "      <td>-2.525154</td>\n",
       "      <td>3.091909</td>\n",
       "    </tr>\n",
       "    <tr>\n",
       "      <th>2000-01-16</th>\n",
       "      <td>-2.576686</td>\n",
       "      <td>2.414244</td>\n",
       "      <td>-2.023093</td>\n",
       "      <td>4.494992</td>\n",
       "    </tr>\n",
       "    <tr>\n",
       "      <th>2000-01-17</th>\n",
       "      <td>-3.129222</td>\n",
       "      <td>2.891594</td>\n",
       "      <td>-1.642917</td>\n",
       "      <td>5.434991</td>\n",
       "    </tr>\n",
       "    <tr>\n",
       "      <th>2000-01-18</th>\n",
       "      <td>-4.526116</td>\n",
       "      <td>2.902255</td>\n",
       "      <td>-0.547969</td>\n",
       "      <td>4.950338</td>\n",
       "    </tr>\n",
       "    <tr>\n",
       "      <th>2000-01-19</th>\n",
       "      <td>-3.715164</td>\n",
       "      <td>3.024816</td>\n",
       "      <td>-0.438104</td>\n",
       "      <td>6.476258</td>\n",
       "    </tr>\n",
       "    <tr>\n",
       "      <th>2000-01-20</th>\n",
       "      <td>-3.633070</td>\n",
       "      <td>4.099193</td>\n",
       "      <td>-0.173657</td>\n",
       "      <td>3.450132</td>\n",
       "    </tr>\n",
       "    <tr>\n",
       "      <th>2000-01-21</th>\n",
       "      <td>-2.463229</td>\n",
       "      <td>5.792932</td>\n",
       "      <td>2.540370</td>\n",
       "      <td>4.841686</td>\n",
       "    </tr>\n",
       "    <tr>\n",
       "      <th>2000-01-22</th>\n",
       "      <td>-3.411934</td>\n",
       "      <td>3.316054</td>\n",
       "      <td>1.505630</td>\n",
       "      <td>6.421280</td>\n",
       "    </tr>\n",
       "    <tr>\n",
       "      <th>2000-01-23</th>\n",
       "      <td>-2.834529</td>\n",
       "      <td>3.763267</td>\n",
       "      <td>1.326337</td>\n",
       "      <td>6.684822</td>\n",
       "    </tr>\n",
       "    <tr>\n",
       "      <th>2000-01-24</th>\n",
       "      <td>-3.373162</td>\n",
       "      <td>2.115173</td>\n",
       "      <td>1.365493</td>\n",
       "      <td>6.754354</td>\n",
       "    </tr>\n",
       "    <tr>\n",
       "      <th>2000-01-25</th>\n",
       "      <td>-4.193648</td>\n",
       "      <td>2.424730</td>\n",
       "      <td>1.664556</td>\n",
       "      <td>7.143064</td>\n",
       "    </tr>\n",
       "    <tr>\n",
       "      <th>2000-01-26</th>\n",
       "      <td>-3.761791</td>\n",
       "      <td>1.178587</td>\n",
       "      <td>1.106935</td>\n",
       "      <td>8.186283</td>\n",
       "    </tr>\n",
       "    <tr>\n",
       "      <th>2000-01-27</th>\n",
       "      <td>-4.161366</td>\n",
       "      <td>1.998383</td>\n",
       "      <td>1.155950</td>\n",
       "      <td>8.296275</td>\n",
       "    </tr>\n",
       "    <tr>\n",
       "      <th>2000-01-28</th>\n",
       "      <td>-5.713622</td>\n",
       "      <td>3.595050</td>\n",
       "      <td>1.359018</td>\n",
       "      <td>10.147674</td>\n",
       "    </tr>\n",
       "    <tr>\n",
       "      <th>2000-01-29</th>\n",
       "      <td>-5.943516</td>\n",
       "      <td>3.409306</td>\n",
       "      <td>1.968708</td>\n",
       "      <td>8.853304</td>\n",
       "    </tr>\n",
       "    <tr>\n",
       "      <th>2000-01-30</th>\n",
       "      <td>-4.876209</td>\n",
       "      <td>2.802180</td>\n",
       "      <td>-0.051146</td>\n",
       "      <td>7.448863</td>\n",
       "    </tr>\n",
       "    <tr>\n",
       "      <th>...</th>\n",
       "      <td>...</td>\n",
       "      <td>...</td>\n",
       "      <td>...</td>\n",
       "      <td>...</td>\n",
       "    </tr>\n",
       "    <tr>\n",
       "      <th>2002-08-28</th>\n",
       "      <td>-2.361679</td>\n",
       "      <td>-49.255703</td>\n",
       "      <td>38.895366</td>\n",
       "      <td>49.307943</td>\n",
       "    </tr>\n",
       "    <tr>\n",
       "      <th>2002-08-29</th>\n",
       "      <td>-3.133232</td>\n",
       "      <td>-50.174981</td>\n",
       "      <td>38.418517</td>\n",
       "      <td>49.189224</td>\n",
       "    </tr>\n",
       "    <tr>\n",
       "      <th>2002-08-30</th>\n",
       "      <td>-2.811382</td>\n",
       "      <td>-48.098670</td>\n",
       "      <td>38.133702</td>\n",
       "      <td>47.946097</td>\n",
       "    </tr>\n",
       "    <tr>\n",
       "      <th>2002-08-31</th>\n",
       "      <td>-2.883342</td>\n",
       "      <td>-47.075141</td>\n",
       "      <td>38.940087</td>\n",
       "      <td>49.816204</td>\n",
       "    </tr>\n",
       "    <tr>\n",
       "      <th>2002-09-01</th>\n",
       "      <td>-1.850523</td>\n",
       "      <td>-48.273698</td>\n",
       "      <td>39.035098</td>\n",
       "      <td>49.944752</td>\n",
       "    </tr>\n",
       "    <tr>\n",
       "      <th>2002-09-02</th>\n",
       "      <td>-1.991150</td>\n",
       "      <td>-47.854872</td>\n",
       "      <td>38.133855</td>\n",
       "      <td>48.494500</td>\n",
       "    </tr>\n",
       "    <tr>\n",
       "      <th>2002-09-03</th>\n",
       "      <td>-0.265814</td>\n",
       "      <td>-48.074742</td>\n",
       "      <td>38.263518</td>\n",
       "      <td>49.715110</td>\n",
       "    </tr>\n",
       "    <tr>\n",
       "      <th>2002-09-04</th>\n",
       "      <td>-1.731186</td>\n",
       "      <td>-48.530863</td>\n",
       "      <td>37.762673</td>\n",
       "      <td>49.543876</td>\n",
       "    </tr>\n",
       "    <tr>\n",
       "      <th>2002-09-05</th>\n",
       "      <td>0.042566</td>\n",
       "      <td>-47.858836</td>\n",
       "      <td>38.242968</td>\n",
       "      <td>48.567867</td>\n",
       "    </tr>\n",
       "    <tr>\n",
       "      <th>2002-09-06</th>\n",
       "      <td>-0.202352</td>\n",
       "      <td>-47.972237</td>\n",
       "      <td>37.025318</td>\n",
       "      <td>48.007138</td>\n",
       "    </tr>\n",
       "    <tr>\n",
       "      <th>2002-09-07</th>\n",
       "      <td>-1.031524</td>\n",
       "      <td>-47.343726</td>\n",
       "      <td>37.705333</td>\n",
       "      <td>48.598453</td>\n",
       "    </tr>\n",
       "    <tr>\n",
       "      <th>2002-09-08</th>\n",
       "      <td>-1.286647</td>\n",
       "      <td>-47.467557</td>\n",
       "      <td>37.865724</td>\n",
       "      <td>50.433474</td>\n",
       "    </tr>\n",
       "    <tr>\n",
       "      <th>2002-09-09</th>\n",
       "      <td>-1.522353</td>\n",
       "      <td>-48.679778</td>\n",
       "      <td>37.567486</td>\n",
       "      <td>50.422579</td>\n",
       "    </tr>\n",
       "    <tr>\n",
       "      <th>2002-09-10</th>\n",
       "      <td>-1.040457</td>\n",
       "      <td>-48.867296</td>\n",
       "      <td>37.079453</td>\n",
       "      <td>50.939660</td>\n",
       "    </tr>\n",
       "    <tr>\n",
       "      <th>2002-09-11</th>\n",
       "      <td>-2.589226</td>\n",
       "      <td>-47.618595</td>\n",
       "      <td>36.378789</td>\n",
       "      <td>51.025997</td>\n",
       "    </tr>\n",
       "    <tr>\n",
       "      <th>2002-09-12</th>\n",
       "      <td>-3.391242</td>\n",
       "      <td>-47.293261</td>\n",
       "      <td>36.431890</td>\n",
       "      <td>50.356010</td>\n",
       "    </tr>\n",
       "    <tr>\n",
       "      <th>2002-09-13</th>\n",
       "      <td>-3.628436</td>\n",
       "      <td>-47.024447</td>\n",
       "      <td>37.020750</td>\n",
       "      <td>51.307422</td>\n",
       "    </tr>\n",
       "    <tr>\n",
       "      <th>2002-09-14</th>\n",
       "      <td>-4.606993</td>\n",
       "      <td>-47.295102</td>\n",
       "      <td>38.542467</td>\n",
       "      <td>51.067460</td>\n",
       "    </tr>\n",
       "    <tr>\n",
       "      <th>2002-09-15</th>\n",
       "      <td>-4.061604</td>\n",
       "      <td>-46.608078</td>\n",
       "      <td>39.189925</td>\n",
       "      <td>50.824733</td>\n",
       "    </tr>\n",
       "    <tr>\n",
       "      <th>2002-09-16</th>\n",
       "      <td>-3.038091</td>\n",
       "      <td>-47.338550</td>\n",
       "      <td>41.442431</td>\n",
       "      <td>50.112926</td>\n",
       "    </tr>\n",
       "    <tr>\n",
       "      <th>2002-09-17</th>\n",
       "      <td>-4.164936</td>\n",
       "      <td>-47.043824</td>\n",
       "      <td>42.264496</td>\n",
       "      <td>49.463579</td>\n",
       "    </tr>\n",
       "    <tr>\n",
       "      <th>2002-09-18</th>\n",
       "      <td>-4.786975</td>\n",
       "      <td>-45.675306</td>\n",
       "      <td>42.525787</td>\n",
       "      <td>50.922397</td>\n",
       "    </tr>\n",
       "    <tr>\n",
       "      <th>2002-09-19</th>\n",
       "      <td>-6.022649</td>\n",
       "      <td>-46.366068</td>\n",
       "      <td>42.332052</td>\n",
       "      <td>50.916507</td>\n",
       "    </tr>\n",
       "    <tr>\n",
       "      <th>2002-09-20</th>\n",
       "      <td>-5.942961</td>\n",
       "      <td>-46.070796</td>\n",
       "      <td>40.615010</td>\n",
       "      <td>50.170809</td>\n",
       "    </tr>\n",
       "    <tr>\n",
       "      <th>2002-09-21</th>\n",
       "      <td>-5.835332</td>\n",
       "      <td>-46.895410</td>\n",
       "      <td>41.415607</td>\n",
       "      <td>48.535105</td>\n",
       "    </tr>\n",
       "    <tr>\n",
       "      <th>2002-09-22</th>\n",
       "      <td>-7.527023</td>\n",
       "      <td>-47.258536</td>\n",
       "      <td>40.350980</td>\n",
       "      <td>47.876448</td>\n",
       "    </tr>\n",
       "    <tr>\n",
       "      <th>2002-09-23</th>\n",
       "      <td>-8.328732</td>\n",
       "      <td>-47.860659</td>\n",
       "      <td>40.987221</td>\n",
       "      <td>46.455528</td>\n",
       "    </tr>\n",
       "    <tr>\n",
       "      <th>2002-09-24</th>\n",
       "      <td>-9.182517</td>\n",
       "      <td>-47.965201</td>\n",
       "      <td>40.719047</td>\n",
       "      <td>46.055879</td>\n",
       "    </tr>\n",
       "    <tr>\n",
       "      <th>2002-09-25</th>\n",
       "      <td>-9.128519</td>\n",
       "      <td>-49.012842</td>\n",
       "      <td>40.614096</td>\n",
       "      <td>46.238184</td>\n",
       "    </tr>\n",
       "    <tr>\n",
       "      <th>2002-09-26</th>\n",
       "      <td>-8.084846</td>\n",
       "      <td>-50.362099</td>\n",
       "      <td>40.337945</td>\n",
       "      <td>46.170742</td>\n",
       "    </tr>\n",
       "  </tbody>\n",
       "</table>\n",
       "<p>1000 rows × 4 columns</p>\n",
       "</div>"
      ],
      "text/plain": [
       "                   A          B          C          D\n",
       "2000-01-01 -0.256019  -0.248407  -1.050988   0.632031\n",
       "2000-01-02 -0.284421  -1.003280  -0.982993   0.832507\n",
       "2000-01-03  0.867691   1.093355  -1.625412   3.381460\n",
       "2000-01-04  2.502736   1.723373  -2.268346   2.424258\n",
       "2000-01-05  1.769886   2.439541  -1.662342   3.127141\n",
       "2000-01-06  0.472868   1.700058  -2.334143   2.379602\n",
       "2000-01-07  0.380735  -0.413386  -4.158878   2.198842\n",
       "2000-01-08 -0.094763   0.349831  -4.761395   3.051630\n",
       "2000-01-09  1.091160  -0.210475  -5.393439   1.607648\n",
       "2000-01-10 -0.104659  -1.265260  -4.916085   1.883927\n",
       "2000-01-11  0.208455  -0.398955  -3.468888   2.941863\n",
       "2000-01-12  0.217033   0.529063  -3.802967   3.871727\n",
       "2000-01-13  0.233280   2.303796  -2.457410   1.564072\n",
       "2000-01-14  0.279525   2.923834  -2.755939   2.547012\n",
       "2000-01-15 -1.169674   3.371502  -2.525154   3.091909\n",
       "2000-01-16 -2.576686   2.414244  -2.023093   4.494992\n",
       "2000-01-17 -3.129222   2.891594  -1.642917   5.434991\n",
       "2000-01-18 -4.526116   2.902255  -0.547969   4.950338\n",
       "2000-01-19 -3.715164   3.024816  -0.438104   6.476258\n",
       "2000-01-20 -3.633070   4.099193  -0.173657   3.450132\n",
       "2000-01-21 -2.463229   5.792932   2.540370   4.841686\n",
       "2000-01-22 -3.411934   3.316054   1.505630   6.421280\n",
       "2000-01-23 -2.834529   3.763267   1.326337   6.684822\n",
       "2000-01-24 -3.373162   2.115173   1.365493   6.754354\n",
       "2000-01-25 -4.193648   2.424730   1.664556   7.143064\n",
       "2000-01-26 -3.761791   1.178587   1.106935   8.186283\n",
       "2000-01-27 -4.161366   1.998383   1.155950   8.296275\n",
       "2000-01-28 -5.713622   3.595050   1.359018  10.147674\n",
       "2000-01-29 -5.943516   3.409306   1.968708   8.853304\n",
       "2000-01-30 -4.876209   2.802180  -0.051146   7.448863\n",
       "...              ...        ...        ...        ...\n",
       "2002-08-28 -2.361679 -49.255703  38.895366  49.307943\n",
       "2002-08-29 -3.133232 -50.174981  38.418517  49.189224\n",
       "2002-08-30 -2.811382 -48.098670  38.133702  47.946097\n",
       "2002-08-31 -2.883342 -47.075141  38.940087  49.816204\n",
       "2002-09-01 -1.850523 -48.273698  39.035098  49.944752\n",
       "2002-09-02 -1.991150 -47.854872  38.133855  48.494500\n",
       "2002-09-03 -0.265814 -48.074742  38.263518  49.715110\n",
       "2002-09-04 -1.731186 -48.530863  37.762673  49.543876\n",
       "2002-09-05  0.042566 -47.858836  38.242968  48.567867\n",
       "2002-09-06 -0.202352 -47.972237  37.025318  48.007138\n",
       "2002-09-07 -1.031524 -47.343726  37.705333  48.598453\n",
       "2002-09-08 -1.286647 -47.467557  37.865724  50.433474\n",
       "2002-09-09 -1.522353 -48.679778  37.567486  50.422579\n",
       "2002-09-10 -1.040457 -48.867296  37.079453  50.939660\n",
       "2002-09-11 -2.589226 -47.618595  36.378789  51.025997\n",
       "2002-09-12 -3.391242 -47.293261  36.431890  50.356010\n",
       "2002-09-13 -3.628436 -47.024447  37.020750  51.307422\n",
       "2002-09-14 -4.606993 -47.295102  38.542467  51.067460\n",
       "2002-09-15 -4.061604 -46.608078  39.189925  50.824733\n",
       "2002-09-16 -3.038091 -47.338550  41.442431  50.112926\n",
       "2002-09-17 -4.164936 -47.043824  42.264496  49.463579\n",
       "2002-09-18 -4.786975 -45.675306  42.525787  50.922397\n",
       "2002-09-19 -6.022649 -46.366068  42.332052  50.916507\n",
       "2002-09-20 -5.942961 -46.070796  40.615010  50.170809\n",
       "2002-09-21 -5.835332 -46.895410  41.415607  48.535105\n",
       "2002-09-22 -7.527023 -47.258536  40.350980  47.876448\n",
       "2002-09-23 -8.328732 -47.860659  40.987221  46.455528\n",
       "2002-09-24 -9.182517 -47.965201  40.719047  46.055879\n",
       "2002-09-25 -9.128519 -49.012842  40.614096  46.238184\n",
       "2002-09-26 -8.084846 -50.362099  40.337945  46.170742\n",
       "\n",
       "[1000 rows x 4 columns]"
      ]
     },
     "execution_count": 18,
     "metadata": {},
     "output_type": "execute_result"
    }
   ],
   "source": [
    "pd.read_hdf('foo.h5','df')"
   ]
  },
  {
   "cell_type": "code",
   "execution_count": 20,
   "metadata": {},
   "outputs": [],
   "source": [
    "df.to_excel('foo.xlsx', sheet_name='pandas data')"
   ]
  },
  {
   "cell_type": "code",
   "execution_count": 22,
   "metadata": {},
   "outputs": [
    {
     "data": {
      "text/html": [
       "<div>\n",
       "<style scoped>\n",
       "    .dataframe tbody tr th:only-of-type {\n",
       "        vertical-align: middle;\n",
       "    }\n",
       "\n",
       "    .dataframe tbody tr th {\n",
       "        vertical-align: top;\n",
       "    }\n",
       "\n",
       "    .dataframe thead th {\n",
       "        text-align: right;\n",
       "    }\n",
       "</style>\n",
       "<table border=\"1\" class=\"dataframe\">\n",
       "  <thead>\n",
       "    <tr style=\"text-align: right;\">\n",
       "      <th></th>\n",
       "      <th>A</th>\n",
       "      <th>B</th>\n",
       "      <th>C</th>\n",
       "      <th>D</th>\n",
       "    </tr>\n",
       "  </thead>\n",
       "  <tbody>\n",
       "    <tr>\n",
       "      <th>2000-01-01</th>\n",
       "      <td>-0.256019</td>\n",
       "      <td>-0.248407</td>\n",
       "      <td>-1.050988</td>\n",
       "      <td>0.632031</td>\n",
       "    </tr>\n",
       "    <tr>\n",
       "      <th>2000-01-02</th>\n",
       "      <td>-0.284421</td>\n",
       "      <td>-1.003280</td>\n",
       "      <td>-0.982993</td>\n",
       "      <td>0.832507</td>\n",
       "    </tr>\n",
       "    <tr>\n",
       "      <th>2000-01-03</th>\n",
       "      <td>0.867691</td>\n",
       "      <td>1.093355</td>\n",
       "      <td>-1.625412</td>\n",
       "      <td>3.381460</td>\n",
       "    </tr>\n",
       "    <tr>\n",
       "      <th>2000-01-04</th>\n",
       "      <td>2.502736</td>\n",
       "      <td>1.723373</td>\n",
       "      <td>-2.268346</td>\n",
       "      <td>2.424258</td>\n",
       "    </tr>\n",
       "    <tr>\n",
       "      <th>2000-01-05</th>\n",
       "      <td>1.769886</td>\n",
       "      <td>2.439541</td>\n",
       "      <td>-1.662342</td>\n",
       "      <td>3.127141</td>\n",
       "    </tr>\n",
       "    <tr>\n",
       "      <th>2000-01-06</th>\n",
       "      <td>0.472868</td>\n",
       "      <td>1.700058</td>\n",
       "      <td>-2.334143</td>\n",
       "      <td>2.379602</td>\n",
       "    </tr>\n",
       "    <tr>\n",
       "      <th>2000-01-07</th>\n",
       "      <td>0.380735</td>\n",
       "      <td>-0.413386</td>\n",
       "      <td>-4.158878</td>\n",
       "      <td>2.198842</td>\n",
       "    </tr>\n",
       "    <tr>\n",
       "      <th>2000-01-08</th>\n",
       "      <td>-0.094763</td>\n",
       "      <td>0.349831</td>\n",
       "      <td>-4.761395</td>\n",
       "      <td>3.051630</td>\n",
       "    </tr>\n",
       "    <tr>\n",
       "      <th>2000-01-09</th>\n",
       "      <td>1.091160</td>\n",
       "      <td>-0.210475</td>\n",
       "      <td>-5.393439</td>\n",
       "      <td>1.607648</td>\n",
       "    </tr>\n",
       "    <tr>\n",
       "      <th>2000-01-10</th>\n",
       "      <td>-0.104659</td>\n",
       "      <td>-1.265260</td>\n",
       "      <td>-4.916085</td>\n",
       "      <td>1.883927</td>\n",
       "    </tr>\n",
       "    <tr>\n",
       "      <th>2000-01-11</th>\n",
       "      <td>0.208455</td>\n",
       "      <td>-0.398955</td>\n",
       "      <td>-3.468888</td>\n",
       "      <td>2.941863</td>\n",
       "    </tr>\n",
       "    <tr>\n",
       "      <th>2000-01-12</th>\n",
       "      <td>0.217033</td>\n",
       "      <td>0.529063</td>\n",
       "      <td>-3.802967</td>\n",
       "      <td>3.871727</td>\n",
       "    </tr>\n",
       "    <tr>\n",
       "      <th>2000-01-13</th>\n",
       "      <td>0.233280</td>\n",
       "      <td>2.303796</td>\n",
       "      <td>-2.457410</td>\n",
       "      <td>1.564072</td>\n",
       "    </tr>\n",
       "    <tr>\n",
       "      <th>2000-01-14</th>\n",
       "      <td>0.279525</td>\n",
       "      <td>2.923834</td>\n",
       "      <td>-2.755939</td>\n",
       "      <td>2.547012</td>\n",
       "    </tr>\n",
       "    <tr>\n",
       "      <th>2000-01-15</th>\n",
       "      <td>-1.169674</td>\n",
       "      <td>3.371502</td>\n",
       "      <td>-2.525154</td>\n",
       "      <td>3.091909</td>\n",
       "    </tr>\n",
       "    <tr>\n",
       "      <th>2000-01-16</th>\n",
       "      <td>-2.576686</td>\n",
       "      <td>2.414244</td>\n",
       "      <td>-2.023093</td>\n",
       "      <td>4.494992</td>\n",
       "    </tr>\n",
       "    <tr>\n",
       "      <th>2000-01-17</th>\n",
       "      <td>-3.129222</td>\n",
       "      <td>2.891594</td>\n",
       "      <td>-1.642917</td>\n",
       "      <td>5.434991</td>\n",
       "    </tr>\n",
       "    <tr>\n",
       "      <th>2000-01-18</th>\n",
       "      <td>-4.526116</td>\n",
       "      <td>2.902255</td>\n",
       "      <td>-0.547969</td>\n",
       "      <td>4.950338</td>\n",
       "    </tr>\n",
       "    <tr>\n",
       "      <th>2000-01-19</th>\n",
       "      <td>-3.715164</td>\n",
       "      <td>3.024816</td>\n",
       "      <td>-0.438104</td>\n",
       "      <td>6.476258</td>\n",
       "    </tr>\n",
       "    <tr>\n",
       "      <th>2000-01-20</th>\n",
       "      <td>-3.633070</td>\n",
       "      <td>4.099193</td>\n",
       "      <td>-0.173657</td>\n",
       "      <td>3.450132</td>\n",
       "    </tr>\n",
       "    <tr>\n",
       "      <th>2000-01-21</th>\n",
       "      <td>-2.463229</td>\n",
       "      <td>5.792932</td>\n",
       "      <td>2.540370</td>\n",
       "      <td>4.841686</td>\n",
       "    </tr>\n",
       "    <tr>\n",
       "      <th>2000-01-22</th>\n",
       "      <td>-3.411934</td>\n",
       "      <td>3.316054</td>\n",
       "      <td>1.505630</td>\n",
       "      <td>6.421280</td>\n",
       "    </tr>\n",
       "    <tr>\n",
       "      <th>2000-01-23</th>\n",
       "      <td>-2.834529</td>\n",
       "      <td>3.763267</td>\n",
       "      <td>1.326337</td>\n",
       "      <td>6.684822</td>\n",
       "    </tr>\n",
       "    <tr>\n",
       "      <th>2000-01-24</th>\n",
       "      <td>-3.373162</td>\n",
       "      <td>2.115173</td>\n",
       "      <td>1.365493</td>\n",
       "      <td>6.754354</td>\n",
       "    </tr>\n",
       "    <tr>\n",
       "      <th>2000-01-25</th>\n",
       "      <td>-4.193648</td>\n",
       "      <td>2.424730</td>\n",
       "      <td>1.664556</td>\n",
       "      <td>7.143064</td>\n",
       "    </tr>\n",
       "    <tr>\n",
       "      <th>2000-01-26</th>\n",
       "      <td>-3.761791</td>\n",
       "      <td>1.178587</td>\n",
       "      <td>1.106935</td>\n",
       "      <td>8.186283</td>\n",
       "    </tr>\n",
       "    <tr>\n",
       "      <th>2000-01-27</th>\n",
       "      <td>-4.161366</td>\n",
       "      <td>1.998383</td>\n",
       "      <td>1.155950</td>\n",
       "      <td>8.296275</td>\n",
       "    </tr>\n",
       "    <tr>\n",
       "      <th>2000-01-28</th>\n",
       "      <td>-5.713622</td>\n",
       "      <td>3.595050</td>\n",
       "      <td>1.359018</td>\n",
       "      <td>10.147674</td>\n",
       "    </tr>\n",
       "    <tr>\n",
       "      <th>2000-01-29</th>\n",
       "      <td>-5.943516</td>\n",
       "      <td>3.409306</td>\n",
       "      <td>1.968708</td>\n",
       "      <td>8.853304</td>\n",
       "    </tr>\n",
       "    <tr>\n",
       "      <th>2000-01-30</th>\n",
       "      <td>-4.876209</td>\n",
       "      <td>2.802180</td>\n",
       "      <td>-0.051146</td>\n",
       "      <td>7.448863</td>\n",
       "    </tr>\n",
       "    <tr>\n",
       "      <th>...</th>\n",
       "      <td>...</td>\n",
       "      <td>...</td>\n",
       "      <td>...</td>\n",
       "      <td>...</td>\n",
       "    </tr>\n",
       "    <tr>\n",
       "      <th>2002-08-28</th>\n",
       "      <td>-2.361679</td>\n",
       "      <td>-49.255703</td>\n",
       "      <td>38.895366</td>\n",
       "      <td>49.307943</td>\n",
       "    </tr>\n",
       "    <tr>\n",
       "      <th>2002-08-29</th>\n",
       "      <td>-3.133232</td>\n",
       "      <td>-50.174981</td>\n",
       "      <td>38.418517</td>\n",
       "      <td>49.189224</td>\n",
       "    </tr>\n",
       "    <tr>\n",
       "      <th>2002-08-30</th>\n",
       "      <td>-2.811382</td>\n",
       "      <td>-48.098670</td>\n",
       "      <td>38.133702</td>\n",
       "      <td>47.946097</td>\n",
       "    </tr>\n",
       "    <tr>\n",
       "      <th>2002-08-31</th>\n",
       "      <td>-2.883342</td>\n",
       "      <td>-47.075141</td>\n",
       "      <td>38.940087</td>\n",
       "      <td>49.816204</td>\n",
       "    </tr>\n",
       "    <tr>\n",
       "      <th>2002-09-01</th>\n",
       "      <td>-1.850523</td>\n",
       "      <td>-48.273698</td>\n",
       "      <td>39.035098</td>\n",
       "      <td>49.944752</td>\n",
       "    </tr>\n",
       "    <tr>\n",
       "      <th>2002-09-02</th>\n",
       "      <td>-1.991150</td>\n",
       "      <td>-47.854872</td>\n",
       "      <td>38.133855</td>\n",
       "      <td>48.494500</td>\n",
       "    </tr>\n",
       "    <tr>\n",
       "      <th>2002-09-03</th>\n",
       "      <td>-0.265814</td>\n",
       "      <td>-48.074742</td>\n",
       "      <td>38.263518</td>\n",
       "      <td>49.715110</td>\n",
       "    </tr>\n",
       "    <tr>\n",
       "      <th>2002-09-04</th>\n",
       "      <td>-1.731186</td>\n",
       "      <td>-48.530863</td>\n",
       "      <td>37.762673</td>\n",
       "      <td>49.543876</td>\n",
       "    </tr>\n",
       "    <tr>\n",
       "      <th>2002-09-05</th>\n",
       "      <td>0.042566</td>\n",
       "      <td>-47.858836</td>\n",
       "      <td>38.242968</td>\n",
       "      <td>48.567867</td>\n",
       "    </tr>\n",
       "    <tr>\n",
       "      <th>2002-09-06</th>\n",
       "      <td>-0.202352</td>\n",
       "      <td>-47.972237</td>\n",
       "      <td>37.025318</td>\n",
       "      <td>48.007138</td>\n",
       "    </tr>\n",
       "    <tr>\n",
       "      <th>2002-09-07</th>\n",
       "      <td>-1.031524</td>\n",
       "      <td>-47.343726</td>\n",
       "      <td>37.705333</td>\n",
       "      <td>48.598453</td>\n",
       "    </tr>\n",
       "    <tr>\n",
       "      <th>2002-09-08</th>\n",
       "      <td>-1.286647</td>\n",
       "      <td>-47.467557</td>\n",
       "      <td>37.865724</td>\n",
       "      <td>50.433474</td>\n",
       "    </tr>\n",
       "    <tr>\n",
       "      <th>2002-09-09</th>\n",
       "      <td>-1.522353</td>\n",
       "      <td>-48.679778</td>\n",
       "      <td>37.567486</td>\n",
       "      <td>50.422579</td>\n",
       "    </tr>\n",
       "    <tr>\n",
       "      <th>2002-09-10</th>\n",
       "      <td>-1.040457</td>\n",
       "      <td>-48.867296</td>\n",
       "      <td>37.079453</td>\n",
       "      <td>50.939660</td>\n",
       "    </tr>\n",
       "    <tr>\n",
       "      <th>2002-09-11</th>\n",
       "      <td>-2.589226</td>\n",
       "      <td>-47.618595</td>\n",
       "      <td>36.378789</td>\n",
       "      <td>51.025997</td>\n",
       "    </tr>\n",
       "    <tr>\n",
       "      <th>2002-09-12</th>\n",
       "      <td>-3.391242</td>\n",
       "      <td>-47.293261</td>\n",
       "      <td>36.431890</td>\n",
       "      <td>50.356010</td>\n",
       "    </tr>\n",
       "    <tr>\n",
       "      <th>2002-09-13</th>\n",
       "      <td>-3.628436</td>\n",
       "      <td>-47.024447</td>\n",
       "      <td>37.020750</td>\n",
       "      <td>51.307422</td>\n",
       "    </tr>\n",
       "    <tr>\n",
       "      <th>2002-09-14</th>\n",
       "      <td>-4.606993</td>\n",
       "      <td>-47.295102</td>\n",
       "      <td>38.542467</td>\n",
       "      <td>51.067460</td>\n",
       "    </tr>\n",
       "    <tr>\n",
       "      <th>2002-09-15</th>\n",
       "      <td>-4.061604</td>\n",
       "      <td>-46.608078</td>\n",
       "      <td>39.189925</td>\n",
       "      <td>50.824733</td>\n",
       "    </tr>\n",
       "    <tr>\n",
       "      <th>2002-09-16</th>\n",
       "      <td>-3.038091</td>\n",
       "      <td>-47.338550</td>\n",
       "      <td>41.442431</td>\n",
       "      <td>50.112926</td>\n",
       "    </tr>\n",
       "    <tr>\n",
       "      <th>2002-09-17</th>\n",
       "      <td>-4.164936</td>\n",
       "      <td>-47.043824</td>\n",
       "      <td>42.264496</td>\n",
       "      <td>49.463579</td>\n",
       "    </tr>\n",
       "    <tr>\n",
       "      <th>2002-09-18</th>\n",
       "      <td>-4.786975</td>\n",
       "      <td>-45.675306</td>\n",
       "      <td>42.525787</td>\n",
       "      <td>50.922397</td>\n",
       "    </tr>\n",
       "    <tr>\n",
       "      <th>2002-09-19</th>\n",
       "      <td>-6.022649</td>\n",
       "      <td>-46.366068</td>\n",
       "      <td>42.332052</td>\n",
       "      <td>50.916507</td>\n",
       "    </tr>\n",
       "    <tr>\n",
       "      <th>2002-09-20</th>\n",
       "      <td>-5.942961</td>\n",
       "      <td>-46.070796</td>\n",
       "      <td>40.615010</td>\n",
       "      <td>50.170809</td>\n",
       "    </tr>\n",
       "    <tr>\n",
       "      <th>2002-09-21</th>\n",
       "      <td>-5.835332</td>\n",
       "      <td>-46.895410</td>\n",
       "      <td>41.415607</td>\n",
       "      <td>48.535105</td>\n",
       "    </tr>\n",
       "    <tr>\n",
       "      <th>2002-09-22</th>\n",
       "      <td>-7.527023</td>\n",
       "      <td>-47.258536</td>\n",
       "      <td>40.350980</td>\n",
       "      <td>47.876448</td>\n",
       "    </tr>\n",
       "    <tr>\n",
       "      <th>2002-09-23</th>\n",
       "      <td>-8.328732</td>\n",
       "      <td>-47.860659</td>\n",
       "      <td>40.987221</td>\n",
       "      <td>46.455528</td>\n",
       "    </tr>\n",
       "    <tr>\n",
       "      <th>2002-09-24</th>\n",
       "      <td>-9.182517</td>\n",
       "      <td>-47.965201</td>\n",
       "      <td>40.719047</td>\n",
       "      <td>46.055879</td>\n",
       "    </tr>\n",
       "    <tr>\n",
       "      <th>2002-09-25</th>\n",
       "      <td>-9.128519</td>\n",
       "      <td>-49.012842</td>\n",
       "      <td>40.614096</td>\n",
       "      <td>46.238184</td>\n",
       "    </tr>\n",
       "    <tr>\n",
       "      <th>2002-09-26</th>\n",
       "      <td>-8.084846</td>\n",
       "      <td>-50.362099</td>\n",
       "      <td>40.337945</td>\n",
       "      <td>46.170742</td>\n",
       "    </tr>\n",
       "  </tbody>\n",
       "</table>\n",
       "<p>1000 rows × 4 columns</p>\n",
       "</div>"
      ],
      "text/plain": [
       "                   A          B          C          D\n",
       "2000-01-01 -0.256019  -0.248407  -1.050988   0.632031\n",
       "2000-01-02 -0.284421  -1.003280  -0.982993   0.832507\n",
       "2000-01-03  0.867691   1.093355  -1.625412   3.381460\n",
       "2000-01-04  2.502736   1.723373  -2.268346   2.424258\n",
       "2000-01-05  1.769886   2.439541  -1.662342   3.127141\n",
       "2000-01-06  0.472868   1.700058  -2.334143   2.379602\n",
       "2000-01-07  0.380735  -0.413386  -4.158878   2.198842\n",
       "2000-01-08 -0.094763   0.349831  -4.761395   3.051630\n",
       "2000-01-09  1.091160  -0.210475  -5.393439   1.607648\n",
       "2000-01-10 -0.104659  -1.265260  -4.916085   1.883927\n",
       "2000-01-11  0.208455  -0.398955  -3.468888   2.941863\n",
       "2000-01-12  0.217033   0.529063  -3.802967   3.871727\n",
       "2000-01-13  0.233280   2.303796  -2.457410   1.564072\n",
       "2000-01-14  0.279525   2.923834  -2.755939   2.547012\n",
       "2000-01-15 -1.169674   3.371502  -2.525154   3.091909\n",
       "2000-01-16 -2.576686   2.414244  -2.023093   4.494992\n",
       "2000-01-17 -3.129222   2.891594  -1.642917   5.434991\n",
       "2000-01-18 -4.526116   2.902255  -0.547969   4.950338\n",
       "2000-01-19 -3.715164   3.024816  -0.438104   6.476258\n",
       "2000-01-20 -3.633070   4.099193  -0.173657   3.450132\n",
       "2000-01-21 -2.463229   5.792932   2.540370   4.841686\n",
       "2000-01-22 -3.411934   3.316054   1.505630   6.421280\n",
       "2000-01-23 -2.834529   3.763267   1.326337   6.684822\n",
       "2000-01-24 -3.373162   2.115173   1.365493   6.754354\n",
       "2000-01-25 -4.193648   2.424730   1.664556   7.143064\n",
       "2000-01-26 -3.761791   1.178587   1.106935   8.186283\n",
       "2000-01-27 -4.161366   1.998383   1.155950   8.296275\n",
       "2000-01-28 -5.713622   3.595050   1.359018  10.147674\n",
       "2000-01-29 -5.943516   3.409306   1.968708   8.853304\n",
       "2000-01-30 -4.876209   2.802180  -0.051146   7.448863\n",
       "...              ...        ...        ...        ...\n",
       "2002-08-28 -2.361679 -49.255703  38.895366  49.307943\n",
       "2002-08-29 -3.133232 -50.174981  38.418517  49.189224\n",
       "2002-08-30 -2.811382 -48.098670  38.133702  47.946097\n",
       "2002-08-31 -2.883342 -47.075141  38.940087  49.816204\n",
       "2002-09-01 -1.850523 -48.273698  39.035098  49.944752\n",
       "2002-09-02 -1.991150 -47.854872  38.133855  48.494500\n",
       "2002-09-03 -0.265814 -48.074742  38.263518  49.715110\n",
       "2002-09-04 -1.731186 -48.530863  37.762673  49.543876\n",
       "2002-09-05  0.042566 -47.858836  38.242968  48.567867\n",
       "2002-09-06 -0.202352 -47.972237  37.025318  48.007138\n",
       "2002-09-07 -1.031524 -47.343726  37.705333  48.598453\n",
       "2002-09-08 -1.286647 -47.467557  37.865724  50.433474\n",
       "2002-09-09 -1.522353 -48.679778  37.567486  50.422579\n",
       "2002-09-10 -1.040457 -48.867296  37.079453  50.939660\n",
       "2002-09-11 -2.589226 -47.618595  36.378789  51.025997\n",
       "2002-09-12 -3.391242 -47.293261  36.431890  50.356010\n",
       "2002-09-13 -3.628436 -47.024447  37.020750  51.307422\n",
       "2002-09-14 -4.606993 -47.295102  38.542467  51.067460\n",
       "2002-09-15 -4.061604 -46.608078  39.189925  50.824733\n",
       "2002-09-16 -3.038091 -47.338550  41.442431  50.112926\n",
       "2002-09-17 -4.164936 -47.043824  42.264496  49.463579\n",
       "2002-09-18 -4.786975 -45.675306  42.525787  50.922397\n",
       "2002-09-19 -6.022649 -46.366068  42.332052  50.916507\n",
       "2002-09-20 -5.942961 -46.070796  40.615010  50.170809\n",
       "2002-09-21 -5.835332 -46.895410  41.415607  48.535105\n",
       "2002-09-22 -7.527023 -47.258536  40.350980  47.876448\n",
       "2002-09-23 -8.328732 -47.860659  40.987221  46.455528\n",
       "2002-09-24 -9.182517 -47.965201  40.719047  46.055879\n",
       "2002-09-25 -9.128519 -49.012842  40.614096  46.238184\n",
       "2002-09-26 -8.084846 -50.362099  40.337945  46.170742\n",
       "\n",
       "[1000 rows x 4 columns]"
      ]
     },
     "execution_count": 22,
     "metadata": {},
     "output_type": "execute_result"
    }
   ],
   "source": [
    "pd.read_excel('foo.xlsx', 'pandas data', index_column=None, na_values=['NA'])"
   ]
  },
  {
   "cell_type": "code",
   "execution_count": null,
   "metadata": {},
   "outputs": [],
   "source": []
  }
 ],
 "metadata": {
  "kernelspec": {
   "display_name": "Python 3",
   "language": "python",
   "name": "python3"
  },
  "language_info": {
   "codemirror_mode": {
    "name": "ipython",
    "version": 3
   },
   "file_extension": ".py",
   "mimetype": "text/x-python",
   "name": "python",
   "nbconvert_exporter": "python",
   "pygments_lexer": "ipython3",
   "version": "3.6.2"
  }
 },
 "nbformat": 4,
 "nbformat_minor": 2
}
