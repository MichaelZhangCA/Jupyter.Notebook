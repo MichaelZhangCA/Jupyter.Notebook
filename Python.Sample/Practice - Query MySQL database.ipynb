{
 "cells": [
  {
   "cell_type": "markdown",
   "metadata": {},
   "source": [
    "# Check Mysql Package\n",
    "run import to Check mysql connector package on your Python environment."
   ]
  },
  {
   "cell_type": "code",
   "execution_count": 5,
   "metadata": {},
   "outputs": [
    {
     "data": {
      "text/plain": [
       "'2.1.6'"
      ]
     },
     "execution_count": 5,
     "metadata": {},
     "output_type": "execute_result"
    }
   ],
   "source": [
    "import mysql.connector\n",
    "mysql.connector.__version__"
   ]
  },
  {
   "cell_type": "markdown",
   "metadata": {},
   "source": [
    "If the version of mysql package returned, it's ready to go.\n",
    "\n",
    "The latest version has compatible issue, please make sure version 2.1.6 is installed"
   ]
  },
  {
   "cell_type": "markdown",
   "metadata": {},
   "source": [
    "<B>Uncomment the following command to install mysql package if you got error from previous codes</B>"
   ]
  },
  {
   "cell_type": "code",
   "execution_count": 6,
   "metadata": {},
   "outputs": [
    {
     "name": "stdout",
     "output_type": "stream",
     "text": [
      "Requirement already satisfied: mysql-connector==2.1.6 in c:\\program files\\python36\\lib\\site-packages\n"
     ]
    }
   ],
   "source": [
    "# !python -m pip install mysql-connector==2.1.6"
   ]
  },
  {
   "cell_type": "markdown",
   "metadata": {},
   "source": [
    "If you got error from the install command, please go back the preparation file and check Python environement."
   ]
  },
  {
   "cell_type": "markdown",
   "metadata": {},
   "source": [
    "# Connect to the databaes"
   ]
  },
  {
   "cell_type": "code",
   "execution_count": 26,
   "metadata": {},
   "outputs": [
    {
     "data": {
      "text/plain": [
       "False"
      ]
     },
     "execution_count": 26,
     "metadata": {},
     "output_type": "execute_result"
    }
   ],
   "source": [
    "# setup mysql database connection info\n",
    "servername = \"localhost\"\n",
    "username = \"michael\"\n",
    "password = \"Password2017\"\n",
    "databasename = \"stock_market\"\n",
    "\n",
    "cnx = mysql.connector.connect(user=username, password=password, host=servername,database=databasename)\n",
    "cnx.autocommit\n"
   ]
  },
  {
   "cell_type": "markdown",
   "metadata": {},
   "source": [
    "By default, you should be able to see \"False\" as current status of \"autocommit\".\n",
    "\n",
    "It only impact insert/update/delete sql script, if you only query data from the database, <b>you shouldn't do this</b>."
   ]
  },
  {
   "cell_type": "code",
   "execution_count": 28,
   "metadata": {},
   "outputs": [],
   "source": [
    "# setup autocommit so do not need explicit commit any changes\n",
    "# cnx.autocommit = True\n",
    "# cnx.autocommit"
   ]
  },
  {
   "cell_type": "markdown",
   "metadata": {},
   "source": [
    "# Reteive data from table"
   ]
  },
  {
   "cell_type": "code",
   "execution_count": 29,
   "metadata": {},
   "outputs": [
    {
     "data": {
      "text/plain": [
       "[(1,\n",
       "  datetime.date(2018, 2, 9),\n",
       "  'Market data loading service',\n",
       "  'Load symbol list',\n",
       "  'I',\n",
       "  '==> start loading symbol list from IEX api',\n",
       "  datetime.datetime(2018, 2, 9, 23, 17, 16)),\n",
       " (2,\n",
       "  datetime.date(2018, 2, 9),\n",
       "  'Market data loading service',\n",
       "  'Load symbol list',\n",
       "  'I',\n",
       "  ' -> dumped list from IEX',\n",
       "  datetime.datetime(2018, 2, 9, 23, 17, 16)),\n",
       " (3,\n",
       "  datetime.date(2018, 2, 9),\n",
       "  'Market data loading service',\n",
       "  'Load symbol list',\n",
       "  'I',\n",
       "  ' -| symbols list updated',\n",
       "  datetime.datetime(2018, 2, 9, 23, 17, 19)),\n",
       " (4,\n",
       "  datetime.date(2018, 2, 9),\n",
       "  'Market data loading service',\n",
       "  'Update company info',\n",
       "  'I',\n",
       "  '==> start updating symbol company info from IEX api',\n",
       "  datetime.datetime(2018, 2, 9, 23, 17, 19)),\n",
       " (5,\n",
       "  datetime.date(2018, 2, 9),\n",
       "  'Market data loading service',\n",
       "  'Update company info',\n",
       "  'I',\n",
       "  ' -| there is no new ticker to update',\n",
       "  datetime.datetime(2018, 2, 9, 23, 17, 19)),\n",
       " (6,\n",
       "  datetime.date(2018, 2, 9),\n",
       "  'Market data loading service',\n",
       "  'Update Index Constituent',\n",
       "  'I',\n",
       "  '==> start loading market indices data',\n",
       "  datetime.datetime(2018, 2, 9, 23, 17, 19)),\n",
       " (7,\n",
       "  datetime.date(2018, 2, 9),\n",
       "  'Market data loading service',\n",
       "  'Update Index Constituent',\n",
       "  'I',\n",
       "  ' -> start loading NASDAQ 100',\n",
       "  datetime.datetime(2018, 2, 9, 23, 17, 19)),\n",
       " (8,\n",
       "  datetime.date(2018, 2, 9),\n",
       "  'Market data loading service',\n",
       "  'Update Index Constituent',\n",
       "  'I',\n",
       "  ' -> NASDAQ 100 refreshed',\n",
       "  datetime.datetime(2018, 2, 9, 23, 17, 20)),\n",
       " (9,\n",
       "  datetime.date(2018, 2, 9),\n",
       "  'Market data loading service',\n",
       "  'Update Index Constituent',\n",
       "  'I',\n",
       "  ' -> start loading S&P 500',\n",
       "  datetime.datetime(2018, 2, 9, 23, 17, 20)),\n",
       " (10,\n",
       "  datetime.date(2018, 2, 9),\n",
       "  'Market data loading service',\n",
       "  'Update Index Constituent',\n",
       "  'I',\n",
       "  ' -> S&P 500 refreshed',\n",
       "  datetime.datetime(2018, 2, 9, 23, 17, 21)),\n",
       " (11,\n",
       "  datetime.date(2018, 2, 9),\n",
       "  'Market data loading service',\n",
       "  'Update Index Constituent',\n",
       "  'I',\n",
       "  ' -> start loading DOW 30',\n",
       "  datetime.datetime(2018, 2, 9, 23, 17, 21)),\n",
       " (12,\n",
       "  datetime.date(2018, 2, 9),\n",
       "  'Market data loading service',\n",
       "  'Update Index Constituent',\n",
       "  'I',\n",
       "  ' -> DOW 30 refreshed',\n",
       "  datetime.datetime(2018, 2, 9, 23, 17, 22)),\n",
       " (13,\n",
       "  datetime.date(2018, 2, 9),\n",
       "  'Market data loading service',\n",
       "  'Update Index Constituent',\n",
       "  'I',\n",
       "  ' -> start loading TSX 60',\n",
       "  datetime.datetime(2018, 2, 9, 23, 17, 22)),\n",
       " (14,\n",
       "  datetime.date(2018, 2, 9),\n",
       "  'Market data loading service',\n",
       "  'Update Index Constituent',\n",
       "  'I',\n",
       "  ' -> TSX 60 refreshed',\n",
       "  datetime.datetime(2018, 2, 9, 23, 17, 22)),\n",
       " (15,\n",
       "  datetime.date(2018, 2, 9),\n",
       "  'Market data loading service',\n",
       "  'Update Index Constituent',\n",
       "  'I',\n",
       "  ' -| market indices data refreshed',\n",
       "  datetime.datetime(2018, 2, 9, 23, 17, 22)),\n",
       " (16,\n",
       "  datetime.date(2018, 2, 9),\n",
       "  'Market data loading service',\n",
       "  'Dump Historic Data',\n",
       "  'I',\n",
       "  '==> start refresh historic data',\n",
       "  datetime.datetime(2018, 2, 9, 23, 17, 22)),\n",
       " (17,\n",
       "  datetime.date(2018, 2, 9),\n",
       "  'Market data loading service',\n",
       "  'Dump Historic Data',\n",
       "  'I',\n",
       "  '--> start dump historic data from quandl for : ASML',\n",
       "  datetime.datetime(2018, 2, 9, 23, 17, 23)),\n",
       " (18,\n",
       "  datetime.date(2018, 2, 9),\n",
       "  'Market data loading service',\n",
       "  'Dump Historic Data',\n",
       "  'E',\n",
       "  '\"  ! Got error when dumping : ASML, error : <class \\'quandl.errors.quandl_error.NotFoundError\\'>\"',\n",
       "  datetime.datetime(2018, 2, 9, 23, 17, 23)),\n",
       " (19,\n",
       "  datetime.date(2018, 2, 9),\n",
       "  'Market data loading service',\n",
       "  'Dump Historic Data',\n",
       "  'I',\n",
       "  '--> start dump historic data from quandl for : CTRP',\n",
       "  datetime.datetime(2018, 2, 9, 23, 17, 23)),\n",
       " (20,\n",
       "  datetime.date(2018, 2, 9),\n",
       "  'Market data loading service',\n",
       "  'Dump Historic Data',\n",
       "  'E',\n",
       "  '\"  ! Got error when dumping : CTRP, error : <class \\'quandl.errors.quandl_error.NotFoundError\\'>\"',\n",
       "  datetime.datetime(2018, 2, 9, 23, 17, 23)),\n",
       " (21,\n",
       "  datetime.date(2018, 2, 9),\n",
       "  'Market data loading service',\n",
       "  'Dump Historic Data',\n",
       "  'I',\n",
       "  '--> start dump historic data from quandl for : JD',\n",
       "  datetime.datetime(2018, 2, 9, 23, 17, 23)),\n",
       " (22,\n",
       "  datetime.date(2018, 2, 9),\n",
       "  'Market data loading service',\n",
       "  'Dump Historic Data',\n",
       "  'E',\n",
       "  '\"  ! Got error when dumping : JD, error : <class \\'quandl.errors.quandl_error.NotFoundError\\'>\"',\n",
       "  datetime.datetime(2018, 2, 9, 23, 17, 24)),\n",
       " (23,\n",
       "  datetime.date(2018, 2, 9),\n",
       "  'Market data loading service',\n",
       "  'Dump Historic Data',\n",
       "  'I',\n",
       "  '--> start dump historic data from quandl for : LBTYK',\n",
       "  datetime.datetime(2018, 2, 9, 23, 17, 24)),\n",
       " (24,\n",
       "  datetime.date(2018, 2, 9),\n",
       "  'Market data loading service',\n",
       "  'Dump Historic Data',\n",
       "  'E',\n",
       "  '\"  ! Got error when dumping : LBTYK, error : <class \\'quandl.errors.quandl_error.NotFoundError\\'>\"',\n",
       "  datetime.datetime(2018, 2, 9, 23, 17, 24)),\n",
       " (25,\n",
       "  datetime.date(2018, 2, 9),\n",
       "  'Market data loading service',\n",
       "  'Dump Historic Data',\n",
       "  'I',\n",
       "  '--> start dump historic data from quandl for : QVCA',\n",
       "  datetime.datetime(2018, 2, 9, 23, 17, 24)),\n",
       " (26,\n",
       "  datetime.date(2018, 2, 9),\n",
       "  'Market data loading service',\n",
       "  'Dump Historic Data',\n",
       "  'E',\n",
       "  '\"  ! Got error when dumping : QVCA, error : <class \\'quandl.errors.quandl_error.NotFoundError\\'>\"',\n",
       "  datetime.datetime(2018, 2, 9, 23, 17, 24)),\n",
       " (27,\n",
       "  datetime.date(2018, 2, 9),\n",
       "  'Market data loading service',\n",
       "  'Dump Historic Data',\n",
       "  'I',\n",
       "  '--> start dump historic data from quandl for : MELI',\n",
       "  datetime.datetime(2018, 2, 9, 23, 17, 24)),\n",
       " (28,\n",
       "  datetime.date(2018, 2, 9),\n",
       "  'Market data loading service',\n",
       "  'Dump Historic Data',\n",
       "  'E',\n",
       "  '\"  ! Got error when dumping : MELI, error : <class \\'quandl.errors.quandl_error.NotFoundError\\'>\"',\n",
       "  datetime.datetime(2018, 2, 9, 23, 17, 25)),\n",
       " (29,\n",
       "  datetime.date(2018, 2, 9),\n",
       "  'Market data loading service',\n",
       "  'Dump Historic Data',\n",
       "  'I',\n",
       "  '--> start dump historic data from quandl for : NTES',\n",
       "  datetime.datetime(2018, 2, 9, 23, 17, 25)),\n",
       " (30,\n",
       "  datetime.date(2018, 2, 9),\n",
       "  'Market data loading service',\n",
       "  'Dump Historic Data',\n",
       "  'E',\n",
       "  '\"  ! Got error when dumping : NTES, error : <class \\'quandl.errors.quandl_error.NotFoundError\\'>\"',\n",
       "  datetime.datetime(2018, 2, 9, 23, 17, 25)),\n",
       " (31,\n",
       "  datetime.date(2018, 2, 9),\n",
       "  'Market data loading service',\n",
       "  'Dump Historic Data',\n",
       "  'I',\n",
       "  '--> start dump historic data from quandl for : SHPG',\n",
       "  datetime.datetime(2018, 2, 9, 23, 17, 25)),\n",
       " (32,\n",
       "  datetime.date(2018, 2, 9),\n",
       "  'Market data loading service',\n",
       "  'Dump Historic Data',\n",
       "  'E',\n",
       "  '\"  ! Got error when dumping : SHPG, error : <class \\'quandl.errors.quandl_error.NotFoundError\\'>\"',\n",
       "  datetime.datetime(2018, 2, 9, 23, 17, 25)),\n",
       " (33,\n",
       "  datetime.date(2018, 2, 9),\n",
       "  'Market data loading service',\n",
       "  'Dump Historic Data',\n",
       "  'I',\n",
       "  '--> start dump historic data from quandl for : MMM',\n",
       "  datetime.datetime(2018, 2, 9, 23, 17, 25)),\n",
       " (34,\n",
       "  datetime.date(2018, 2, 9),\n",
       "  'Market data loading service',\n",
       "  'Dump Historic Data',\n",
       "  'I',\n",
       "  ' -> dump partial historic data from quandl for : MMM',\n",
       "  datetime.datetime(2018, 2, 9, 23, 17, 26)),\n",
       " (35,\n",
       "  datetime.date(2018, 2, 9),\n",
       "  'Market data loading service',\n",
       "  'Dump Historic Data',\n",
       "  'I',\n",
       "  ' -| Completed patch missing history for : MMM',\n",
       "  datetime.datetime(2018, 2, 9, 23, 17, 26)),\n",
       " (36,\n",
       "  datetime.date(2018, 2, 9),\n",
       "  'Market data loading service',\n",
       "  'Dump Historic Data',\n",
       "  'I',\n",
       "  '--> start dump historic data from quandl for : BRK.B',\n",
       "  datetime.datetime(2018, 2, 9, 23, 17, 26)),\n",
       " (37,\n",
       "  datetime.date(2018, 2, 9),\n",
       "  'Market data loading service',\n",
       "  'Dump Historic Data',\n",
       "  'E',\n",
       "  '\"  ! Got error when dumping : BRK.B, error : <class \\'ValueError\\'>\"',\n",
       "  datetime.datetime(2018, 2, 9, 23, 17, 26)),\n",
       " (38,\n",
       "  datetime.date(2018, 2, 9),\n",
       "  'Market data loading service',\n",
       "  'Dump Historic Data',\n",
       "  'I',\n",
       "  '--> start dump historic data from quandl for : BF.B',\n",
       "  datetime.datetime(2018, 2, 9, 23, 17, 26)),\n",
       " (39,\n",
       "  datetime.date(2018, 2, 9),\n",
       "  'Market data loading service',\n",
       "  'Dump Historic Data',\n",
       "  'E',\n",
       "  '\"  ! Got error when dumping : BF.B, error : <class \\'ValueError\\'>\"',\n",
       "  datetime.datetime(2018, 2, 9, 23, 17, 26))]"
      ]
     },
     "execution_count": 29,
     "metadata": {},
     "output_type": "execute_result"
    }
   ],
   "source": [
    "cur = cnx.cursor(buffered=True)\n",
    "cur.execute(\"select * from `ops.operation_log` limit 10\")\n",
    "\n",
    "# show data\n",
    "list(cur.fetchall())\n"
   ]
  },
  {
   "cell_type": "code",
   "execution_count": 31,
   "metadata": {},
   "outputs": [
    {
     "name": "stdout",
     "output_type": "stream",
     "text": [
      "(1, datetime.date(2018, 2, 9), 'Market data loading service', 'Load symbol list', 'I', '==> start loading symbol list from IEX api', datetime.datetime(2018, 2, 9, 23, 17, 16))\n",
      "(2, datetime.date(2018, 2, 9), 'Market data loading service', 'Load symbol list', 'I', ' -> dumped list from IEX', datetime.datetime(2018, 2, 9, 23, 17, 16))\n",
      "(3, datetime.date(2018, 2, 9), 'Market data loading service', 'Load symbol list', 'I', ' -| symbols list updated', datetime.datetime(2018, 2, 9, 23, 17, 19))\n",
      "(4, datetime.date(2018, 2, 9), 'Market data loading service', 'Update company info', 'I', '==> start updating symbol company info from IEX api', datetime.datetime(2018, 2, 9, 23, 17, 19))\n",
      "(5, datetime.date(2018, 2, 9), 'Market data loading service', 'Update company info', 'I', ' -| there is no new ticker to update', datetime.datetime(2018, 2, 9, 23, 17, 19))\n",
      "(6, datetime.date(2018, 2, 9), 'Market data loading service', 'Update Index Constituent', 'I', '==> start loading market indices data', datetime.datetime(2018, 2, 9, 23, 17, 19))\n",
      "(7, datetime.date(2018, 2, 9), 'Market data loading service', 'Update Index Constituent', 'I', ' -> start loading NASDAQ 100', datetime.datetime(2018, 2, 9, 23, 17, 19))\n",
      "(8, datetime.date(2018, 2, 9), 'Market data loading service', 'Update Index Constituent', 'I', ' -> NASDAQ 100 refreshed', datetime.datetime(2018, 2, 9, 23, 17, 20))\n",
      "(9, datetime.date(2018, 2, 9), 'Market data loading service', 'Update Index Constituent', 'I', ' -> start loading S&P 500', datetime.datetime(2018, 2, 9, 23, 17, 20))\n",
      "(10, datetime.date(2018, 2, 9), 'Market data loading service', 'Update Index Constituent', 'I', ' -> S&P 500 refreshed', datetime.datetime(2018, 2, 9, 23, 17, 21))\n"
     ]
    }
   ],
   "source": [
    "# or a traditional way\n",
    "cur.execute(\"select * from `ops.operation_log` limit 10\")\n",
    "\n",
    "for row in cur.fetchall():\n",
    "    print(row)"
   ]
  },
  {
   "cell_type": "code",
   "execution_count": null,
   "metadata": {},
   "outputs": [],
   "source": []
  }
 ],
 "metadata": {
  "kernelspec": {
   "display_name": "Python 3",
   "language": "python",
   "name": "python3"
  },
  "language_info": {
   "codemirror_mode": {
    "name": "ipython",
    "version": 3
   },
   "file_extension": ".py",
   "mimetype": "text/x-python",
   "name": "python",
   "nbconvert_exporter": "python",
   "pygments_lexer": "ipython3",
   "version": "3.6.2"
  }
 },
 "nbformat": 4,
 "nbformat_minor": 2
}
