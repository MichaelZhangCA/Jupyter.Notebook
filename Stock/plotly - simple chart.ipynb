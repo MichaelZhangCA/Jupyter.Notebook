{
 "cells": [
  {
   "cell_type": "code",
   "execution_count": 36,
   "metadata": {},
   "outputs": [],
   "source": [
    "import matplotlib.pyplot as plt\n",
    "import pandas as pd\n",
    "import numpy as np\n",
    "import requests\n",
    "\n",
    "# stk = requests.get('https://api.iextrading.com/1.0/stock/aapl/chart/1y')\n"
   ]
  },
  {
   "cell_type": "code",
   "execution_count": 37,
   "metadata": {},
   "outputs": [],
   "source": [
    "def getStockData(ticker, period):\n",
    "    url = 'https://api.iextrading.com/1.0/stock/{0}/chart/{1}'.format(ticker, period)\n",
    "    stk = requests.get(url, verify=False)\n",
    "    return stk.json()"
   ]
  },
  {
   "cell_type": "code",
   "execution_count": 38,
   "metadata": {},
   "outputs": [],
   "source": [
    "def createDataFrame(stockData):\n",
    "    df = pd.DataFrame(stockData)\n",
    "    return df"
   ]
  },
  {
   "cell_type": "code",
   "execution_count": 39,
   "metadata": {},
   "outputs": [],
   "source": [
    "def drawChart(df):\n",
    "    ax = df[[\"close\"]].plot.line(grid='true', figsize=(18,10), title='Close chart', \n",
    "                                          marker=\".\", markersize=10, fontsize=18)\n",
    "    ax.set_xlabel('tenor', fontsize=18)"
   ]
  },
  {
   "cell_type": "code",
   "execution_count": 40,
   "metadata": {},
   "outputs": [
    {
     "data": {
      "text/html": [
       "<script>requirejs.config({paths: { 'plotly': ['https://cdn.plot.ly/plotly-latest.min']},});if(!window.Plotly) {{require(['plotly'],function(plotly) {window.Plotly=plotly;});}}</script>"
      ],
      "text/vnd.plotly.v1+html": [
       "<script>requirejs.config({paths: { 'plotly': ['https://cdn.plot.ly/plotly-latest.min']},});if(!window.Plotly) {{require(['plotly'],function(plotly) {window.Plotly=plotly;});}}</script>"
      ]
     },
     "metadata": {},
     "output_type": "display_data"
    }
   ],
   "source": [
    "import plotly.plotly as py\n",
    "import plotly.graph_objs as go\n",
    "from datetime import datetime\n",
    "\n",
    "import plotly\n",
    "plotly.offline.init_notebook_mode(connected=True) "
   ]
  },
  {
   "cell_type": "code",
   "execution_count": 44,
   "metadata": {},
   "outputs": [],
   "source": [
    "def drawInterChart(df):\n",
    "    trace = go.Candlestick(x=df.date, open=df.open, high=df.high, low=df.low, close=df.close)\n",
    "    data = [trace]\n",
    "    layout = {\n",
    "        'title': 'Stock Chart',\n",
    "        'yaxis': {'title': 'Price'},\n",
    "        'shapes': [{\n",
    "            'x0': '2016-12-09', 'x1': '2016-12-09',\n",
    "            'y0': 0, 'y1': 1, 'xref': 'x', 'yref': 'paper',\n",
    "            'line': {'color': 'rgb(30,30,30)', 'width': 1}\n",
    "        }],\n",
    "        'annotations': [{\n",
    "            'x': '2016-12-09', 'y': 0.05, 'xref': 'x', 'yref': 'paper',\n",
    "            'showarrow': False, 'xanchor': 'left',\n",
    "            'text': 'Increase Period Begins'\n",
    "        }]\n",
    "    }\n",
    "    fig = dict(data=data, layout=layout)\n",
    "    \n",
    "    # \n",
    "    plotly.offline.plot(fig)\n",
    "    \n",
    "    # online chart \n",
    "    # py.iplot(fig, filename='appl-recession-candlestick')"
   ]
  },
  {
   "cell_type": "code",
   "execution_count": 45,
   "metadata": {
    "scrolled": true
   },
   "outputs": [
    {
     "name": "stderr",
     "output_type": "stream",
     "text": [
      "C:\\Program Files\\Python36\\lib\\site-packages\\urllib3\\connectionpool.py:858: InsecureRequestWarning:\n",
      "\n",
      "Unverified HTTPS request is being made. Adding certificate verification is strongly advised. See: https://urllib3.readthedocs.io/en/latest/advanced-usage.html#ssl-warnings\n",
      "\n"
     ]
    }
   ],
   "source": [
    "stk = getStockData('aapl','5y')\n",
    "#stk\n",
    "df = createDataFrame(stk)\n",
    "drawInterChart(df)\n"
   ]
  },
  {
   "cell_type": "code",
   "execution_count": 15,
   "metadata": {},
   "outputs": [],
   "source": []
  },
  {
   "cell_type": "code",
   "execution_count": null,
   "metadata": {},
   "outputs": [],
   "source": []
  }
 ],
 "metadata": {
  "kernelspec": {
   "display_name": "Python 3",
   "language": "python",
   "name": "python3"
  },
  "language_info": {
   "codemirror_mode": {
    "name": "ipython",
    "version": 3
   },
   "file_extension": ".py",
   "mimetype": "text/x-python",
   "name": "python",
   "nbconvert_exporter": "python",
   "pygments_lexer": "ipython3",
   "version": "3.6.2"
  }
 },
 "nbformat": 4,
 "nbformat_minor": 2
}
