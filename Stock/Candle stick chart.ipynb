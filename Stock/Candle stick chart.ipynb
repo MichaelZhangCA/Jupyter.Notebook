{
 "cells": [
  {
   "cell_type": "code",
   "execution_count": null,
   "metadata": {},
   "outputs": [],
   "source": []
  },
  {
   "cell_type": "code",
   "execution_count": 27,
   "metadata": {},
   "outputs": [],
   "source": [
    "import mysql.connector\n",
    "import pandas as pd\n",
    "import numpy as np\n",
    "\n",
    "def load_stockdata(symbol):\n",
    "    serverName = \"localhost\"\n",
    "    cnx = mysql.connector.connect(user='michael', password='Password2017',\n",
    "                                  host=serverName, database='stock_market')\n",
    "    cursor = cnx.cursor()\n",
    "    \n",
    "    query = \"select * from (SELECT effective_date, `adj_open`, `adj_high`, `adj_low`, `adj_close`, `adj_volume` FROM `market.stock_price` WHERE symbol = '{0}' order\\\n",
    "            by effective_date DESC limit 100) sub order by effective_date ASC\".format(symbol)\n",
    "    \n",
    "    cursor.execute(query)\n",
    "    dfsql = pd.DataFrame(cursor.fetchall(), dtype=np.float)\n",
    "    dfsql.columns = cursor.column_names\n",
    "    dfsql.set_index('effective_date', inplace=True)\n",
    "    return dfsql"
   ]
  },
  {
   "cell_type": "code",
   "execution_count": 28,
   "metadata": {},
   "outputs": [
    {
     "data": {
      "text/html": [
       "<div>\n",
       "<style scoped>\n",
       "    .dataframe tbody tr th:only-of-type {\n",
       "        vertical-align: middle;\n",
       "    }\n",
       "\n",
       "    .dataframe tbody tr th {\n",
       "        vertical-align: top;\n",
       "    }\n",
       "\n",
       "    .dataframe thead th {\n",
       "        text-align: right;\n",
       "    }\n",
       "</style>\n",
       "<table border=\"1\" class=\"dataframe\">\n",
       "  <thead>\n",
       "    <tr style=\"text-align: right;\">\n",
       "      <th></th>\n",
       "      <th>adj_open</th>\n",
       "      <th>adj_high</th>\n",
       "      <th>adj_low</th>\n",
       "      <th>adj_close</th>\n",
       "      <th>adj_volume</th>\n",
       "    </tr>\n",
       "    <tr>\n",
       "      <th>effective_date</th>\n",
       "      <th></th>\n",
       "      <th></th>\n",
       "      <th></th>\n",
       "      <th></th>\n",
       "      <th></th>\n",
       "    </tr>\n",
       "  </thead>\n",
       "  <tbody>\n",
       "    <tr>\n",
       "      <th>2017-09-22</th>\n",
       "      <td>73.617388</td>\n",
       "      <td>74.134770</td>\n",
       "      <td>73.478094</td>\n",
       "      <td>74.035273</td>\n",
       "      <td>13969937.0</td>\n",
       "    </tr>\n",
       "    <tr>\n",
       "      <th>2017-09-25</th>\n",
       "      <td>73.716885</td>\n",
       "      <td>73.876079</td>\n",
       "      <td>72.552777</td>\n",
       "      <td>72.891065</td>\n",
       "      <td>23502422.0</td>\n",
       "    </tr>\n",
       "    <tr>\n",
       "      <th>2017-09-26</th>\n",
       "      <td>73.299000</td>\n",
       "      <td>73.438295</td>\n",
       "      <td>72.622424</td>\n",
       "      <td>72.891065</td>\n",
       "      <td>17105469.0</td>\n",
       "    </tr>\n",
       "    <tr>\n",
       "      <th>2017-09-27</th>\n",
       "      <td>73.179604</td>\n",
       "      <td>73.796482</td>\n",
       "      <td>72.801518</td>\n",
       "      <td>73.478094</td>\n",
       "      <td>18934048.0</td>\n",
       "    </tr>\n",
       "    <tr>\n",
       "      <th>2017-09-28</th>\n",
       "      <td>73.169655</td>\n",
       "      <td>73.597489</td>\n",
       "      <td>72.940813</td>\n",
       "      <td>73.497993</td>\n",
       "      <td>10814063.0</td>\n",
       "    </tr>\n",
       "  </tbody>\n",
       "</table>\n",
       "</div>"
      ],
      "text/plain": [
       "                 adj_open   adj_high    adj_low  adj_close  adj_volume\n",
       "effective_date                                                        \n",
       "2017-09-22      73.617388  74.134770  73.478094  74.035273  13969937.0\n",
       "2017-09-25      73.716885  73.876079  72.552777  72.891065  23502422.0\n",
       "2017-09-26      73.299000  73.438295  72.622424  72.891065  17105469.0\n",
       "2017-09-27      73.179604  73.796482  72.801518  73.478094  18934048.0\n",
       "2017-09-28      73.169655  73.597489  72.940813  73.497993  10814063.0"
      ]
     },
     "execution_count": 28,
     "metadata": {},
     "output_type": "execute_result"
    }
   ],
   "source": [
    "df = load_stockdata('MSFT')\n",
    "df.head()"
   ]
  },
  {
   "cell_type": "markdown",
   "metadata": {},
   "source": [
    "## make candle dataset"
   ]
  },
  {
   "cell_type": "code",
   "execution_count": 42,
   "metadata": {},
   "outputs": [
    {
     "data": {
      "image/png": "[encoded data removed]",
      "text/plain": [
       "<matplotlib.figure.Figure at 0x292a49ac518>"
      ]
     },
     "metadata": {},
     "output_type": "display_data"
    }
   ],
   "source": [
    "import matplotlib.pyplot as plt\n",
    "import matplotlib.dates as mdates\n",
    "import matplotlib.ticker as mticker\n",
    "# from matplotlib.finance import candlestick_ohlc\n",
    "from mpl_finance import candlestick2_ohlc\n",
    "\n",
    "fig, ax = plt.subplots(figsize=(16, 10))\n",
    "fig.subplots_adjust(bottom=0.2)\n",
    "\n",
    "\n",
    "candlestick2_ohlc(ax,df['adj_open'],df['adj_high'],df['adj_low'],df['adj_close'], width=0.6, colorup='b', colordown='r')\n",
    "\n",
    "plt.grid(True)\n",
    "# ax.xaxis_date()\n",
    "# dates on the x-axis\n",
    "ax.autoscale_view()\n",
    "\n",
    "# plt.setp(plt.gca().get_xticklabels(), rotation=30)"
   ]
  },
  {
   "cell_type": "code",
   "execution_count": 16,
   "metadata": {},
   "outputs": [
    {
     "name": "stdout",
     "output_type": "stream",
     "text": [
      "Collecting https://github.com/matplotlib/mpl_finance/archive/master.zip\n",
      "  Downloading https://github.com/matplotlib/mpl_finance/archive/master.zip\n",
      "Requirement already satisfied: matplotlib in c:\\program files\\python36\\lib\\site-packages (from mpl-finance==0.10.0)\n",
      "Requirement already satisfied: python-dateutil>=2.0 in c:\\program files\\python36\\lib\\site-packages (from matplotlib->mpl-finance==0.10.0)\n",
      "Requirement already satisfied: pyparsing!=2.0.4,!=2.1.2,!=2.1.6,>=2.0.1 in c:\\program files\\python36\\lib\\site-packages (from matplotlib->mpl-finance==0.10.0)\n",
      "Requirement already satisfied: numpy>=1.7.1 in c:\\program files\\python36\\lib\\site-packages (from matplotlib->mpl-finance==0.10.0)\n",
      "Requirement already satisfied: cycler>=0.10 in c:\\program files\\python36\\lib\\site-packages (from matplotlib->mpl-finance==0.10.0)\n",
      "Requirement already satisfied: six>=1.10 in c:\\program files\\python36\\lib\\site-packages (from matplotlib->mpl-finance==0.10.0)\n",
      "Requirement already satisfied: pytz in c:\\program files\\python36\\lib\\site-packages (from matplotlib->mpl-finance==0.10.0)\n",
      "Installing collected packages: mpl-finance\n",
      "  Running setup.py install for mpl-finance: started\n",
      "    Running setup.py install for mpl-finance: finished with status 'done'\n",
      "Successfully installed mpl-finance-0.10.0\n"
     ]
    }
   ],
   "source": [
    "# !python -m pip install https://github.com/matplotlib/mpl_finance/archive/master.zip"
   ]
  },
  {
   "cell_type": "code",
   "execution_count": null,
   "metadata": {},
   "outputs": [],
   "source": []
  }
 ],
 "metadata": {
  "kernelspec": {
   "display_name": "Python 3",
   "language": "python",
   "name": "python3"
  },
  "language_info": {
   "codemirror_mode": {
    "name": "ipython",
    "version": 3
   },
   "file_extension": ".py",
   "mimetype": "text/x-python",
   "name": "python",
   "nbconvert_exporter": "python",
   "pygments_lexer": "ipython3",
   "version": "3.6.2"
  }
 },
 "nbformat": 4,
 "nbformat_minor": 2
}
