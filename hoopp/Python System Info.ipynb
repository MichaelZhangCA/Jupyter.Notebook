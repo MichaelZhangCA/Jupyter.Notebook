{
 "cells": [
  {
   "cell_type": "code",
   "execution_count": 12,
   "metadata": {},
   "outputs": [],
   "source": [
    "import ibapi\n",
    "#import ib as iba"
   ]
  },
  {
   "cell_type": "code",
   "execution_count": 15,
   "metadata": {},
   "outputs": [],
   "source": [
    "import sys, inspect\n",
    "def print_classes():\n",
    "    for name, obj in inspect.getmembers(sys.modules[__name__]):\n",
    "        if inspect.isclass(obj):\n",
    "            print(obj)\n"
   ]
  },
  {
   "cell_type": "code",
   "execution_count": 2,
   "metadata": {},
   "outputs": [
    {
     "data": {
      "text/plain": [
       "['beautifulsoup4==4.6.0',\n",
       " 'bleach==1.5.0',\n",
       " 'blpapi==3.9.0',\n",
       " 'certifi==2017.11.5',\n",
       " 'chardet==3.0.4',\n",
       " 'colorama==0.3.9',\n",
       " 'cycler==0.10.0',\n",
       " 'decorator==4.1.2',\n",
       " 'entrypoints==0.2.3',\n",
       " 'enum34==1.1.6',\n",
       " 'google==1.9.3',\n",
       " 'html5lib==0.9999999',\n",
       " 'ib-api==0.9.70',\n",
       " 'ibapi==9.73.2',\n",
       " 'idna==2.6',\n",
       " 'ipykernel==4.7.0',\n",
       " 'ipython-genutils==0.2.0',\n",
       " 'ipython==6.2.1',\n",
       " 'ipywidgets==7.0.5',\n",
       " 'jedi==0.11.1',\n",
       " 'jinja2==2.10',\n",
       " 'jsonschema==2.6.0',\n",
       " 'jupyter-c-kernel==1.2.0',\n",
       " 'jupyter-client==5.1.0',\n",
       " 'jupyter-console==5.2.0',\n",
       " 'jupyter-core==4.4.0',\n",
       " 'jupyter==1.0.0',\n",
       " 'markdown==2.6.10',\n",
       " 'markupsafe==1.0',\n",
       " 'matplotlib==2.1.1',\n",
       " 'mistune==0.8.3',\n",
       " 'mysql-connector-python==8.0.5',\n",
       " 'nbconvert==5.3.1',\n",
       " 'nbformat==4.4.0',\n",
       " 'notebook==5.2.2',\n",
       " 'numpy==1.13.3',\n",
       " 'pandas==0.21.1',\n",
       " 'pandocfilters==1.4.2',\n",
       " 'parso==0.1.1',\n",
       " 'pickleshare==0.7.4',\n",
       " 'pip==9.0.1',\n",
       " 'prompt-toolkit==1.0.15',\n",
       " 'protobuf==3.5.0.post1',\n",
       " 'pygments==2.2.0',\n",
       " 'pyparsing==2.2.0',\n",
       " 'python-dateutil==2.6.1',\n",
       " 'pytz==2017.3',\n",
       " 'pyzmq==16.0.3',\n",
       " 'qtconsole==4.3.1',\n",
       " 'requests==2.18.4',\n",
       " 'scipy==1.0.0',\n",
       " 'seaborn==0.8.1',\n",
       " 'setuptools==28.8.0',\n",
       " 'simplegeneric==0.8.1',\n",
       " 'six==1.11.0',\n",
       " 'tensorflow-tensorboard==0.4.0rc3',\n",
       " 'tensorflow==1.4.0',\n",
       " 'testpath==0.3.1',\n",
       " 'tornado==4.5.2',\n",
       " 'traitlets==4.3.2',\n",
       " 'urllib3==1.22',\n",
       " 'wcwidth==0.1.7',\n",
       " 'webencodings==0.5.1',\n",
       " 'werkzeug==0.13',\n",
       " 'wheel==0.30.0',\n",
       " 'widgetsnbextension==3.0.8']"
      ]
     },
     "execution_count": 2,
     "metadata": {},
     "output_type": "execute_result"
    }
   ],
   "source": [
    "import pip\n",
    "sorted([\"%s==%s\" % (i.key, i.version) for i in pip.get_installed_distributions()])\n"
   ]
  },
  {
   "cell_type": "code",
   "execution_count": null,
   "metadata": {},
   "outputs": [],
   "source": []
  }
 ],
 "metadata": {
  "kernelspec": {
   "display_name": "Python 3",
   "language": "python",
   "name": "python3"
  },
  "language_info": {
   "codemirror_mode": {
    "name": "ipython",
    "version": 3
   },
   "file_extension": ".py",
   "mimetype": "text/x-python",
   "name": "python",
   "nbconvert_exporter": "python",
   "pygments_lexer": "ipython3",
   "version": "3.6.2"
  }
 },
 "nbformat": 4,
 "nbformat_minor": 2
}
