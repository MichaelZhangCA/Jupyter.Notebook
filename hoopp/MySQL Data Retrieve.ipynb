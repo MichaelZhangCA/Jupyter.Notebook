{
 "cells": [
  {
   "cell_type": "code",
   "execution_count": 6,
   "metadata": {},
   "outputs": [],
   "source": [
    "import mysql.connector"
   ]
  },
  {
   "cell_type": "code",
   "execution_count": 14,
   "metadata": {},
   "outputs": [],
   "source": [
    "serverName = \"awdiquant01.dev.hoopp.cloud\"\n",
    "\n",
    "cnx = mysql.connector.connect(user='quant', password='Password2017',\n",
    "                              host=serverName,\n",
    "                              database='cds_basis_trade')\n"
   ]
  },
  {
   "cell_type": "code",
   "execution_count": 27,
   "metadata": {},
   "outputs": [],
   "source": [
    "def getRequestField(call_type):\n",
    "    query = \"SELECT field_name FROM `config.bps_request_field` WHERE call_type = '\" + call_type + \"'\"\n",
    "    cursor = cnx.cursor()\n",
    "    cursor.execute(query)\n",
    "    result = cursor.fetchall()\n",
    "    cursor.close()\n",
    "    \n",
    "    return result"
   ]
  },
  {
   "cell_type": "code",
   "execution_count": 28,
   "metadata": {},
   "outputs": [
    {
     "data": {
      "text/plain": [
       "['OPEN', 'PX_LAST']"
      ]
     },
     "execution_count": 28,
     "metadata": {},
     "output_type": "execute_result"
    }
   ],
   "source": [
    "request_field = getRequestField(\"BOND_HISTORIC\")\n",
    "[row[0] for row in request_field]"
   ]
  },
  {
   "cell_type": "code",
   "execution_count": 29,
   "metadata": {},
   "outputs": [],
   "source": [
    "def getBloombergId():\n",
    "    query = \"SELECT bloomberg_id FROM `stream.reference_data` WHERE effective_date = CURRENT_DATE LIMIT 100\"\n",
    "    cursor = cnx.cursor()\n",
    "    cursor.execute(query)\n",
    "    result = cursor.fetchall()\n",
    "    cursor.close()\n",
    "    \n",
    "    return result"
   ]
  },
  {
   "cell_type": "code",
   "execution_count": 30,
   "metadata": {},
   "outputs": [
    {
     "data": {
      "text/plain": [
       "['AM725107',\n",
       " 'EI146201',\n",
       " 'LW078953',\n",
       " 'QJ555627',\n",
       " 'AP048743',\n",
       " 'AP059018',\n",
       " 'EJ315107',\n",
       " 'EJ786375',\n",
       " 'LW214223',\n",
       " 'LW224156',\n",
       " 'AL160595',\n",
       " 'AQ243527',\n",
       " 'EJ360453',\n",
       " 'EJ537572',\n",
       " 'EJ776694',\n",
       " 'EK737887',\n",
       " 'AM803310',\n",
       " 'AN948951',\n",
       " 'EK808685',\n",
       " 'EK761757',\n",
       " 'EK767188',\n",
       " 'AN258739',\n",
       " 'AN258756',\n",
       " 'EK081802',\n",
       " 'EK081886',\n",
       " 'EK563907',\n",
       " 'EK563919',\n",
       " 'JV319891',\n",
       " 'AO303128',\n",
       " 'EI997709',\n",
       " 'UV522239',\n",
       " 'AO771097',\n",
       " 'EH821066',\n",
       " 'EJ266021',\n",
       " 'EJ653670',\n",
       " 'EK108400',\n",
       " 'EK837640',\n",
       " 'LW097144',\n",
       " 'AM894434',\n",
       " 'AO612171',\n",
       " 'EK480838',\n",
       " 'LW434162',\n",
       " 'EI463143',\n",
       " 'EI640278',\n",
       " 'EK514574',\n",
       " 'EK747945',\n",
       " 'EK827731',\n",
       " 'EK827749',\n",
       " 'EK917759',\n",
       " 'JK721736',\n",
       " 'QJ825825',\n",
       " 'EJ665673',\n",
       " 'EK437063',\n",
       " 'QZ495533',\n",
       " 'EK775721',\n",
       " 'EK777827',\n",
       " 'EI829233',\n",
       " 'EJ461019',\n",
       " 'AM234692',\n",
       " 'AM800684',\n",
       " 'AM815389',\n",
       " 'JK285251',\n",
       " 'EG133946',\n",
       " 'EG337964',\n",
       " 'EI335567',\n",
       " 'EI644436',\n",
       " 'EK499522',\n",
       " 'EJ743607',\n",
       " 'EK273586',\n",
       " 'EK275020',\n",
       " 'EK789349',\n",
       " 'EK789553',\n",
       " 'JK450780',\n",
       " 'JK464158',\n",
       " 'EJ581201',\n",
       " 'EJ585267',\n",
       " 'AM780712',\n",
       " 'AM780713',\n",
       " 'AM815351',\n",
       " 'AM815352',\n",
       " 'EJ350186',\n",
       " 'EJ557795',\n",
       " 'EJ043149',\n",
       " 'EJ672591',\n",
       " 'EK993233',\n",
       " 'QJ991156',\n",
       " 'AL293465',\n",
       " 'AL317279',\n",
       " 'AQ110101',\n",
       " 'AQ123526',\n",
       " 'EI188785',\n",
       " 'EI190753',\n",
       " 'EJ053009',\n",
       " 'EJ053721',\n",
       " 'EJ508921',\n",
       " 'EJ510104',\n",
       " 'EK156067',\n",
       " 'EK157243',\n",
       " 'EK777881',\n",
       " 'EK780258']"
      ]
     },
     "execution_count": 30,
     "metadata": {},
     "output_type": "execute_result"
    }
   ],
   "source": [
    "request_bbgId = getBloombergId()\n",
    "[row[0] for row in request_bbgId]"
   ]
  },
  {
   "cell_type": "code",
   "execution_count": 32,
   "metadata": {},
   "outputs": [],
   "source": [
    "def getRequestOverride(call_type):\n",
    "    query = \"SELECT field_name, field_value FROM `config.bps_request_override` WHERE call_type = '\" + call_type + \"'\"\n",
    "    cursor = cnx.cursor()\n",
    "    cursor.execute(query)\n",
    "    result = cursor.fetchall()\n",
    "    cursor.close()\n",
    "    \n",
    "    return result"
   ]
  },
  {
   "cell_type": "code",
   "execution_count": 41,
   "metadata": {},
   "outputs": [
    {
     "name": "stdout",
     "output_type": "stream",
     "text": [
      "<class 'str'> 20180101\n",
      "<class 'str'> 20181231\n"
     ]
    }
   ],
   "source": [
    "request_bbgId = getRequestOverride(\"BOND_HISTORIC\")\n",
    "for row in request_bbgId:\n",
    "    print(type(row[0]),row[1])"
   ]
  },
  {
   "cell_type": "code",
   "execution_count": 48,
   "metadata": {},
   "outputs": [
    {
     "data": {
      "text/plain": [
       "[{'bloomberg_id': 'abcde', 'open_price': 323, 'px_last': 234.8},\n",
       " {'bloomberg_id': 'xkdjd', 'open_price': 344, 'px_last': 774.8}]"
      ]
     },
     "execution_count": 48,
     "metadata": {},
     "output_type": "execute_result"
    }
   ],
   "source": [
    "c = []\n",
    "\n",
    "a = {}\n",
    "a['bloomberg_id'] = 'abcde'\n",
    "a['px_last'] = 234.8\n",
    "a['open_price'] = 323\n",
    "\n",
    "c.append(a.copy())\n",
    "\n",
    "a['bloomberg_id'] = 'xkdjd'\n",
    "a['px_last'] = 774.8\n",
    "a['open_price'] = 344\n",
    "c.append(a)\n",
    "\n",
    "c\n",
    "\n"
   ]
  },
  {
   "cell_type": "code",
   "execution_count": null,
   "metadata": {},
   "outputs": [],
   "source": []
  }
 ],
 "metadata": {
  "kernelspec": {
   "display_name": "Python 3",
   "language": "python",
   "name": "python3"
  },
  "language_info": {
   "codemirror_mode": {
    "name": "ipython",
    "version": 3
   },
   "file_extension": ".py",
   "mimetype": "text/x-python",
   "name": "python",
   "nbconvert_exporter": "python",
   "pygments_lexer": "ipython3",
   "version": "3.6.2"
  }
 },
 "nbformat": 4,
 "nbformat_minor": 2
}
