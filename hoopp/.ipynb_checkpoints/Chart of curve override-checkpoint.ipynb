{
 "cells": [
  {
   "cell_type": "code",
   "execution_count": 2,
   "metadata": {},
   "outputs": [],
   "source": [
    "import mysql.connector"
   ]
  },
  {
   "cell_type": "code",
   "execution_count": 3,
   "metadata": {},
   "outputs": [],
   "source": [
    "serverName = \"awqiquant01.dev.hoopp.cloud\"\n",
    "\n",
    "cnx = mysql.connector.connect(user='quant', password='Password2017',\n",
    "                              host=serverName,\n",
    "                              database='cds_basis_trade')\n",
    "cursor = cnx.cursor()"
   ]
  },
  {
   "cell_type": "code",
   "execution_count": 4,
   "metadata": {},
   "outputs": [
    {
     "data": {
      "text/plain": [
       "<http.client.HTTPResponse at 0xe18e20a3c8>"
      ]
     },
     "execution_count": 4,
     "metadata": {},
     "output_type": "execute_result"
    }
   ],
   "source": [
    "import urllib.request\n",
    "\n",
    "urllib.request.urlopen(\"http://\" + serverName + \":8940/CurveOverride/setOverride/US00101JAK25/3/39/\")\n",
    "urllib.request.urlopen(\"http://\" + serverName + \":8940/CurveOverride/setOverride/US00101JAK25/7/150/\")\n",
    "urllib.request.urlopen(\"http://\" + serverName + \":8940/CurveOverride/setOverride/US00101JAK25/9/164/\")"
   ]
  },
  {
   "cell_type": "code",
   "execution_count": 5,
   "metadata": {},
   "outputs": [],
   "source": [
    "query = (\"SELECT tenor, cds_spread_value, final_spread_value FROM `stream.cds_curve_point` WHERE isin = 'US00101JAK25' order by tenor\")"
   ]
  },
  {
   "cell_type": "code",
   "execution_count": 6,
   "metadata": {},
   "outputs": [
    {
     "name": "stdout",
     "output_type": "stream",
     "text": [
      "(Decimal('2.0'), Decimal('19.1199'), Decimal('19.1199'))\n",
      "(Decimal('2.5'), Decimal('25.2800'), Decimal('25.2800'))\n",
      "(Decimal('3.0'), Decimal('33.6532'), Decimal('39.0015'))\n",
      "(Decimal('3.5'), Decimal('44.1755'), Decimal('44.1755'))\n",
      "(Decimal('4.0'), Decimal('56.9628'), Decimal('56.9628'))\n",
      "(Decimal('4.5'), Decimal('68.8575'), Decimal('68.8575'))\n",
      "(Decimal('5.0'), Decimal('81.0000'), Decimal('81.0000'))\n",
      "(Decimal('5.5'), Decimal('94.8290'), Decimal('94.8290'))\n",
      "(Decimal('6.0'), Decimal('109.9707'), Decimal('109.9707'))\n",
      "(Decimal('6.5'), Decimal('126.3527'), Decimal('126.3527'))\n",
      "(Decimal('7.0'), Decimal('143.9748'), Decimal('150.0039'))\n",
      "(Decimal('7.5'), Decimal('152.3087'), Decimal('158.5873'))\n",
      "(Decimal('8.0'), Decimal('157.7358'), Decimal('163.7621'))\n",
      "(Decimal('8.5'), Decimal('160.1968'), Decimal('165.4719'))\n",
      "(Decimal('9.0'), Decimal('159.7187'), Decimal('159.7187'))\n",
      "(Decimal('9.5'), Decimal('156.3068'), Decimal('156.3068'))\n",
      "(Decimal('10.0'), Decimal('149.9236'), Decimal('149.9236'))\n"
     ]
    }
   ],
   "source": [
    "cursor.execute(query)\n",
    "result = cursor.fetchall()\n",
    "for row in result:\n",
    "    print (row)"
   ]
  },
  {
   "cell_type": "code",
   "execution_count": 7,
   "metadata": {},
   "outputs": [],
   "source": [
    "import matplotlib.pyplot as plt\n",
    "import pandas as pd"
   ]
  },
  {
   "cell_type": "code",
   "execution_count": 8,
   "metadata": {},
   "outputs": [
    {
     "data": {
      "text/html": [
       "<div>\n",
       "<style scoped>\n",
       "    .dataframe tbody tr th:only-of-type {\n",
       "        vertical-align: middle;\n",
       "    }\n",
       "\n",
       "    .dataframe tbody tr th {\n",
       "        vertical-align: top;\n",
       "    }\n",
       "\n",
       "    .dataframe thead th {\n",
       "        text-align: right;\n",
       "    }\n",
       "</style>\n",
       "<table border=\"1\" class=\"dataframe\">\n",
       "  <thead>\n",
       "    <tr style=\"text-align: right;\">\n",
       "      <th></th>\n",
       "      <th>spread</th>\n",
       "      <th>adjust value</th>\n",
       "    </tr>\n",
       "    <tr>\n",
       "      <th>tenor</th>\n",
       "      <th></th>\n",
       "      <th></th>\n",
       "    </tr>\n",
       "  </thead>\n",
       "  <tbody>\n",
       "    <tr>\n",
       "      <th>2.0</th>\n",
       "      <td>19.1199</td>\n",
       "      <td>19.1199</td>\n",
       "    </tr>\n",
       "    <tr>\n",
       "      <th>2.5</th>\n",
       "      <td>25.2800</td>\n",
       "      <td>25.2800</td>\n",
       "    </tr>\n",
       "    <tr>\n",
       "      <th>3.0</th>\n",
       "      <td>33.6532</td>\n",
       "      <td>39.0015</td>\n",
       "    </tr>\n",
       "    <tr>\n",
       "      <th>3.5</th>\n",
       "      <td>44.1755</td>\n",
       "      <td>44.1755</td>\n",
       "    </tr>\n",
       "    <tr>\n",
       "      <th>4.0</th>\n",
       "      <td>56.9628</td>\n",
       "      <td>56.9628</td>\n",
       "    </tr>\n",
       "    <tr>\n",
       "      <th>4.5</th>\n",
       "      <td>68.8575</td>\n",
       "      <td>68.8575</td>\n",
       "    </tr>\n",
       "    <tr>\n",
       "      <th>5.0</th>\n",
       "      <td>81.0000</td>\n",
       "      <td>81.0000</td>\n",
       "    </tr>\n",
       "    <tr>\n",
       "      <th>5.5</th>\n",
       "      <td>94.8290</td>\n",
       "      <td>94.8290</td>\n",
       "    </tr>\n",
       "    <tr>\n",
       "      <th>6.0</th>\n",
       "      <td>109.9707</td>\n",
       "      <td>109.9707</td>\n",
       "    </tr>\n",
       "    <tr>\n",
       "      <th>6.5</th>\n",
       "      <td>126.3527</td>\n",
       "      <td>126.3527</td>\n",
       "    </tr>\n",
       "    <tr>\n",
       "      <th>7.0</th>\n",
       "      <td>143.9748</td>\n",
       "      <td>150.0039</td>\n",
       "    </tr>\n",
       "    <tr>\n",
       "      <th>7.5</th>\n",
       "      <td>152.3087</td>\n",
       "      <td>158.5873</td>\n",
       "    </tr>\n",
       "    <tr>\n",
       "      <th>8.0</th>\n",
       "      <td>157.7358</td>\n",
       "      <td>163.7621</td>\n",
       "    </tr>\n",
       "    <tr>\n",
       "      <th>8.5</th>\n",
       "      <td>160.1968</td>\n",
       "      <td>165.4719</td>\n",
       "    </tr>\n",
       "    <tr>\n",
       "      <th>9.0</th>\n",
       "      <td>159.7187</td>\n",
       "      <td>159.7187</td>\n",
       "    </tr>\n",
       "    <tr>\n",
       "      <th>9.5</th>\n",
       "      <td>156.3068</td>\n",
       "      <td>156.3068</td>\n",
       "    </tr>\n",
       "    <tr>\n",
       "      <th>10.0</th>\n",
       "      <td>149.9236</td>\n",
       "      <td>149.9236</td>\n",
       "    </tr>\n",
       "  </tbody>\n",
       "</table>\n",
       "</div>"
      ],
      "text/plain": [
       "         spread adjust value\n",
       "tenor                       \n",
       "2.0     19.1199      19.1199\n",
       "2.5     25.2800      25.2800\n",
       "3.0     33.6532      39.0015\n",
       "3.5     44.1755      44.1755\n",
       "4.0     56.9628      56.9628\n",
       "4.5     68.8575      68.8575\n",
       "5.0     81.0000      81.0000\n",
       "5.5     94.8290      94.8290\n",
       "6.0    109.9707     109.9707\n",
       "6.5    126.3527     126.3527\n",
       "7.0    143.9748     150.0039\n",
       "7.5    152.3087     158.5873\n",
       "8.0    157.7358     163.7621\n",
       "8.5    160.1968     165.4719\n",
       "9.0    159.7187     159.7187\n",
       "9.5    156.3068     156.3068\n",
       "10.0   149.9236     149.9236"
      ]
     },
     "execution_count": 8,
     "metadata": {},
     "output_type": "execute_result"
    }
   ],
   "source": [
    "df = pd.DataFrame([cln for cln in row] for row in result)\n",
    "df.rename(columns={0:'tenor', 1:'spread', 2:'adjust value'}, inplace=True)\n",
    "df.set_index('tenor', inplace=True)\n",
    "#df.sort_values('tenor')\n",
    "df"
   ]
  },
  {
   "cell_type": "code",
   "execution_count": 9,
   "metadata": {},
   "outputs": [
    {
     "name": "stderr",
     "output_type": "stream",
     "text": [
      "C:\\Program Files\\Python36\\lib\\site-packages\\ipykernel_launcher.py:1: FutureWarning: convert_objects is deprecated.  To re-infer data dtypes for object columns, use DataFrame.infer_objects()\n",
      "For all other conversions use the data-type specific converters pd.to_datetime, pd.to_timedelta and pd.to_numeric.\n",
      "  \"\"\"Entry point for launching an IPython kernel.\n"
     ]
    }
   ],
   "source": [
    "df = df.convert_objects(convert_numeric=True)\n",
    "#pd.to_numeric(df[\"spread\"])\n",
    "#pd.to_numeric(df[\"adjust value\"])\n"
   ]
  },
  {
   "cell_type": "code",
   "execution_count": 10,
   "metadata": {},
   "outputs": [
    {
     "data": {
      "text/plain": [
       "<matplotlib.axes._subplots.AxesSubplot at 0xe1970f4f60>"
      ]
     },
     "execution_count": 10,
     "metadata": {},
     "output_type": "execute_result"
    },
    {
     "data": {
      "image/png": "[encoded data removed]",
      "text/plain": [
       "<matplotlib.figure.Figure at 0xe1970f4860>"
      ]
     },
     "metadata": {},
     "output_type": "display_data"
    }
   ],
   "source": [
    "\n",
    "#df.infer_objects()\n",
    "df[[\"spread\", \"adjust value\"]].plot()"
   ]
  },
  {
   "cell_type": "code",
   "execution_count": null,
   "metadata": {},
   "outputs": [],
   "source": []
  }
 ],
 "metadata": {
  "kernelspec": {
   "display_name": "Python 3",
   "language": "python",
   "name": "python3"
  },
  "language_info": {
   "codemirror_mode": {
    "name": "ipython",
    "version": 3
   },
   "file_extension": ".py",
   "mimetype": "text/x-python",
   "name": "python",
   "nbconvert_exporter": "python",
   "pygments_lexer": "ipython3",
   "version": "3.6.2"
  }
 },
 "nbformat": 4,
 "nbformat_minor": 2
}
