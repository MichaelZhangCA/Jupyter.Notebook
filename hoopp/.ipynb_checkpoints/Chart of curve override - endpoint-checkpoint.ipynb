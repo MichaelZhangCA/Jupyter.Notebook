{
 "cells": [
  {
   "cell_type": "code",
   "execution_count": 8,
   "metadata": {},
   "outputs": [],
   "source": [
    "import requests"
   ]
  },
  {
   "cell_type": "raw",
   "metadata": {},
   "source": [
    "res = requests.get('http://awqiquant01.dev.hoopp.cloud:8940/CurveOverride/getCurve/US00101JAK25/')\n",
    "res.text"
   ]
  },
  {
   "cell_type": "code",
   "execution_count": 7,
   "metadata": {},
   "outputs": [
    {
     "ename": "AttributeError",
     "evalue": "'HTTPResponse' object has no attribute 'text'",
     "output_type": "error",
     "traceback": [
      "\u001b[1;31m---------------------------------------------------------------------------\u001b[0m",
      "\u001b[1;31mAttributeError\u001b[0m                            Traceback (most recent call last)",
      "\u001b[1;32m<ipython-input-7-b81f38ea5434>\u001b[0m in \u001b[0;36m<module>\u001b[1;34m()\u001b[0m\n\u001b[0;32m      7\u001b[0m \u001b[1;33m\u001b[0m\u001b[0m\n\u001b[0;32m      8\u001b[0m \u001b[0mrs\u001b[0m \u001b[1;33m=\u001b[0m \u001b[0murllib\u001b[0m\u001b[1;33m.\u001b[0m\u001b[0mrequest\u001b[0m\u001b[1;33m.\u001b[0m\u001b[0murlopen\u001b[0m\u001b[1;33m(\u001b[0m\u001b[1;34m\"http://\"\u001b[0m \u001b[1;33m+\u001b[0m \u001b[0mserverName\u001b[0m \u001b[1;33m+\u001b[0m \u001b[1;34m\":8940/CurveOverride/getCurve/US00101JAK25/\"\u001b[0m\u001b[1;33m)\u001b[0m\u001b[1;33m\u001b[0m\u001b[0m\n\u001b[1;32m----> 9\u001b[1;33m \u001b[0mrs\u001b[0m\u001b[1;33m.\u001b[0m\u001b[0mtext\u001b[0m\u001b[1;33m\u001b[0m\u001b[0m\n\u001b[0m",
      "\u001b[1;31mAttributeError\u001b[0m: 'HTTPResponse' object has no attribute 'text'"
     ]
    }
   ],
   "source": [
    "import urllib.request\n",
    "\n",
    "serverName = \"awqiquant01.dev.hoopp.cloud\"\n",
    "urllib.request.urlopen(\"http://\" + serverName + \":8940/CurveOverride/setOverride/US00101JAK25/4/50/\")\n",
    "urllib.request.urlopen(\"http://\" + serverName + \":8940/CurveOverride/setOverride/US00101JAK25/7/150/\")\n",
    "urllib.request.urlopen(\"http://\" + serverName + \":8940/CurveOverride/setOverride/US00101JAK25/9/164/\")\n",
    "\n",
    "rs = urllib.request.urlopen(\"http://\" + serverName + \":8940/CurveOverride/getCurve/US00101JAK25/\")\n",
    "rs.text"
   ]
  },
  {
   "cell_type": "code",
   "execution_count": null,
   "metadata": {},
   "outputs": [],
   "source": [
    "query = (\"SELECT tenor, cds_spread_value, final_spread_value FROM `stream.cds_curve_point` WHERE isin = 'US00101JAK25' order by tenor\")"
   ]
  },
  {
   "cell_type": "code",
   "execution_count": null,
   "metadata": {},
   "outputs": [],
   "source": [
    "cursor.execute(query)\n",
    "result = cursor.fetchall()\n",
    "\n",
    "for row in result:\n",
    "    print (row)"
   ]
  },
  {
   "cell_type": "code",
   "execution_count": null,
   "metadata": {},
   "outputs": [],
   "source": [
    "import matplotlib.pyplot as plt\n",
    "import pandas as pd\n",
    "import numpy as np"
   ]
  },
  {
   "cell_type": "code",
   "execution_count": null,
   "metadata": {},
   "outputs": [],
   "source": [
    "# push data into a dataframe\n",
    "dft = pd.DataFrame(([row[1], row[2]] for row in result),\n",
    "                   columns=['spread', 'adjust value'], \n",
    "                   index=(row[0] for row in result),\n",
    "                   dtype=np.float)\n",
    "dft\n",
    "# setup chart format\n",
    "ax = dft[[\"spread\", \"adjust value\"]].plot.line(grid='true', figsize=(18,10), title='CDS spread curve', \n",
    "                                          marker=\".\", markersize=10, fontsize=18)\n",
    "ax.set_xlabel('tenor', fontsize=18)\n",
    "\n"
   ]
  },
  {
   "cell_type": "code",
   "execution_count": null,
   "metadata": {},
   "outputs": [],
   "source": []
  },
  {
   "cell_type": "code",
   "execution_count": null,
   "metadata": {},
   "outputs": [],
   "source": []
  }
 ],
 "metadata": {
  "kernelspec": {
   "display_name": "Python 3",
   "language": "python",
   "name": "python3"
  },
  "language_info": {
   "codemirror_mode": {
    "name": "ipython",
    "version": 3
   },
   "file_extension": ".py",
   "mimetype": "text/x-python",
   "name": "python",
   "nbconvert_exporter": "python",
   "pygments_lexer": "ipython3",
   "version": "3.6.2"
  }
 },
 "nbformat": 4,
 "nbformat_minor": 2
}
